{
 "cells": [
  {
   "cell_type": "markdown",
   "metadata": {
    "id": "WzHr8McwAbNd",
    "jupyter": {
     "source_hidden": true
    },
    "tags": []
   },
   "source": [
    "# Black-Litterman allocation\n",
    "\n",
    "The Black-Litterman method is a very powerful way of converting your views on asset returns, along with your uncertainty in these views, into a portfolio.\n",
    "\n",
    "For a description of the theory, please read the [documentation page](https://pyportfolioopt.readthedocs.io/en/latest/BlackLitterman.html) and the links therein.\n",
    "\n",
    "In this recipe, we will cover:\n",
    "\n",
    "- Downloading data for the Black-Litterman method\n",
    "- Constructing the prior return vector based on market equilibrium\n",
    "- Two ways of constructing the uncertainty matrix\n",
    "- Combining Black-Litterman with mean-variance optimization\n",
    "\n",
    "## Downloading datas\n",
    "\n",
    "In addition to price data, constructing a market prior requires market-caps.\n",
    "\n",
    "\n",
    "[![Open In Colab](https://colab.research.google.com/assets/colab-badge.svg)](https://colab.research.google.com/github/robertmartin8/PyPortfolioOpt/blob/master/cookbook/4-Black-Litterman-Allocation.ipynb)\n",
    "    \n",
    "[![Kaggle](https://kaggle.com/static/images/open-in-kaggle.svg)](https://kaggle.com/kernels/welcome?src=https://github.com/robertmartin8/PyPortfolioOpt/blob/master/cookbook/4-Black-Litterman-Allocation.ipynb)\n",
    "    \n",
    "[![Gradient](https://assets.paperspace.io/img/gradient-badge.svg)](https://console.paperspace.com/github/robertmartin8/PyPortfolioOpt/blob/master/cookbook/4-Black-Litterman-Allocation.ipynb)\n",
    "    \n",
    "[![Open In SageMaker Studio Lab](https://studiolab.sagemaker.aws/studiolab.svg)](https://studiolab.sagemaker.aws/import/github/robertmartin8/PyPortfolioOpt/blob/master/cookbook/4-Black-Litterman-Allocation.ipynb)"
   ]
  },
  {
   "cell_type": "code",
   "execution_count": 1,
   "metadata": {
    "colab": {
     "base_uri": "https://localhost:8080/"
    },
    "collapsed": true,
    "id": "sXdbiHc0AnfS",
    "jupyter": {
     "outputs_hidden": true,
     "source_hidden": true
    },
    "outputId": "5ced30c2-5248-4827-a15d-955380574b51",
    "tags": []
   },
   "outputs": [
    {
     "name": "stdout",
     "output_type": "stream",
     "text": [
      "Requirement already satisfied: pandas in /usr/local/lib/python3.7/dist-packages (1.3.5)\n",
      "Requirement already satisfied: numpy in /usr/local/lib/python3.7/dist-packages (1.19.5)\n",
      "Requirement already satisfied: matplotlib in /usr/local/lib/python3.7/dist-packages (3.2.2)\n",
      "Collecting yfinance\n",
      "  Downloading yfinance-0.1.70-py2.py3-none-any.whl (26 kB)\n",
      "Collecting PyPortfolioOpt\n",
      "  Downloading PyPortfolioOpt-1.5.1-py3-none-any.whl (61 kB)\n",
      "\u001b[K     |████████████████████████████████| 61 kB 8.7 MB/s \n",
      "\u001b[?25hRequirement already satisfied: pytz>=2017.3 in /usr/local/lib/python3.7/dist-packages (from pandas) (2018.9)\n",
      "Requirement already satisfied: python-dateutil>=2.7.3 in /usr/local/lib/python3.7/dist-packages (from pandas) (2.8.2)\n",
      "Requirement already satisfied: six>=1.5 in /usr/local/lib/python3.7/dist-packages (from python-dateutil>=2.7.3->pandas) (1.15.0)\n",
      "Requirement already satisfied: cycler>=0.10 in /usr/local/lib/python3.7/dist-packages (from matplotlib) (0.11.0)\n",
      "Requirement already satisfied: kiwisolver>=1.0.1 in /usr/local/lib/python3.7/dist-packages (from matplotlib) (1.3.2)\n",
      "Requirement already satisfied: pyparsing!=2.0.4,!=2.1.2,!=2.1.6,>=2.0.1 in /usr/local/lib/python3.7/dist-packages (from matplotlib) (3.0.7)\n",
      "Requirement already satisfied: multitasking>=0.0.7 in /usr/local/lib/python3.7/dist-packages (from yfinance) (0.0.10)\n",
      "Collecting lxml>=4.5.1\n",
      "  Downloading lxml-4.7.1-cp37-cp37m-manylinux_2_17_x86_64.manylinux2014_x86_64.manylinux_2_24_x86_64.whl (6.4 MB)\n",
      "\u001b[K     |████████████████████████████████| 6.4 MB 32.5 MB/s \n",
      "\u001b[?25hCollecting requests>=2.26\n",
      "  Downloading requests-2.27.1-py2.py3-none-any.whl (63 kB)\n",
      "\u001b[K     |████████████████████████████████| 63 kB 1.5 MB/s \n",
      "\u001b[?25hRequirement already satisfied: idna<4,>=2.5 in /usr/local/lib/python3.7/dist-packages (from requests>=2.26->yfinance) (2.10)\n",
      "Requirement already satisfied: certifi>=2017.4.17 in /usr/local/lib/python3.7/dist-packages (from requests>=2.26->yfinance) (2021.10.8)\n",
      "Requirement already satisfied: urllib3<1.27,>=1.21.1 in /usr/local/lib/python3.7/dist-packages (from requests>=2.26->yfinance) (1.24.3)\n",
      "Requirement already satisfied: charset-normalizer~=2.0.0 in /usr/local/lib/python3.7/dist-packages (from requests>=2.26->yfinance) (2.0.11)\n",
      "Requirement already satisfied: scipy<2.0,>=1.3 in /usr/local/lib/python3.7/dist-packages (from PyPortfolioOpt) (1.4.1)\n",
      "Collecting cvxpy<2.0.0,>=1.1.10\n",
      "  Downloading cvxpy-1.1.18-cp37-cp37m-manylinux_2_24_x86_64.whl (2.7 MB)\n",
      "\u001b[K     |████████████████████████████████| 2.7 MB 55.4 MB/s \n",
      "\u001b[?25hRequirement already satisfied: ecos>=2 in /usr/local/lib/python3.7/dist-packages (from cvxpy<2.0.0,>=1.1.10->PyPortfolioOpt) (2.0.10)\n",
      "Requirement already satisfied: osqp>=0.4.1 in /usr/local/lib/python3.7/dist-packages (from cvxpy<2.0.0,>=1.1.10->PyPortfolioOpt) (0.6.2.post0)\n",
      "Requirement already satisfied: scs>=1.1.6 in /usr/local/lib/python3.7/dist-packages (from cvxpy<2.0.0,>=1.1.10->PyPortfolioOpt) (3.1.0)\n",
      "Requirement already satisfied: qdldl in /usr/local/lib/python3.7/dist-packages (from osqp>=0.4.1->cvxpy<2.0.0,>=1.1.10->PyPortfolioOpt) (0.1.5.post0)\n",
      "Installing collected packages: requests, lxml, cvxpy, yfinance, PyPortfolioOpt\n",
      "  Attempting uninstall: requests\n",
      "    Found existing installation: requests 2.23.0\n",
      "    Uninstalling requests-2.23.0:\n",
      "      Successfully uninstalled requests-2.23.0\n",
      "  Attempting uninstall: lxml\n",
      "    Found existing installation: lxml 4.2.6\n",
      "    Uninstalling lxml-4.2.6:\n",
      "      Successfully uninstalled lxml-4.2.6\n",
      "  Attempting uninstall: cvxpy\n",
      "    Found existing installation: cvxpy 1.0.31\n",
      "    Uninstalling cvxpy-1.0.31:\n",
      "      Successfully uninstalled cvxpy-1.0.31\n",
      "\u001b[31mERROR: pip's dependency resolver does not currently take into account all the packages that are installed. This behaviour is the source of the following dependency conflicts.\n",
      "google-colab 1.0.0 requires requests~=2.23.0, but you have requests 2.27.1 which is incompatible.\n",
      "datascience 0.10.6 requires folium==0.2.1, but you have folium 0.8.3 which is incompatible.\u001b[0m\n",
      "Successfully installed PyPortfolioOpt-1.5.1 cvxpy-1.1.18 lxml-4.7.1 requests-2.27.1 yfinance-0.1.70\n"
     ]
    }
   ],
   "source": [
    "# !pip install pandas numpy matplotlib yfinance PyPortfolioOpt\n",
    "# import os\n",
    "# if not os.path.isdir('data'):\n",
    "#     os.system('git clone https://github.com/robertmartin8/PyPortfolioOpt.git')\n",
    "#     os.chdir('PyPortfolioOpt/cookbook')"
   ]
  },
  {
   "cell_type": "code",
   "execution_count": 2,
   "metadata": {
    "id": "bs5cBlLfAbNf"
   },
   "outputs": [],
   "source": [
    "import numpy as np\n",
    "import pandas as pd\n",
    "import matplotlib.pyplot as plt\n",
    "import yfinance as yf"
   ]
  },
  {
   "cell_type": "code",
   "execution_count": 209,
   "metadata": {
    "id": "_2kfAeqOAbNg"
   },
   "outputs": [
    {
     "name": "stdout",
     "output_type": "stream",
     "text": [
      "Total Portfolio Value in USD: 1006958.25\n",
      "['AMZN', 'META', 'TSLA', 'COST', 'WMT', 'JPM', 'JNJ', 'CVS', 'USD']\n"
     ]
    },
    {
     "data": {
      "text/html": [
       "<div>\n",
       "<style scoped>\n",
       "    .dataframe tbody tr th:only-of-type {\n",
       "        vertical-align: middle;\n",
       "    }\n",
       "\n",
       "    .dataframe tbody tr th {\n",
       "        vertical-align: top;\n",
       "    }\n",
       "\n",
       "    .dataframe thead th {\n",
       "        text-align: right;\n",
       "    }\n",
       "</style>\n",
       "<table border=\"1\" class=\"dataframe\">\n",
       "  <thead>\n",
       "    <tr style=\"text-align: right;\">\n",
       "      <th></th>\n",
       "      <th>Tickers</th>\n",
       "      <th>Sectors</th>\n",
       "      <th>Quantity</th>\n",
       "      <th>Price</th>\n",
       "      <th>Market Value</th>\n",
       "      <th>Current Weight</th>\n",
       "      <th>Prior Market Returns</th>\n",
       "      <th>JPMSI Price Target</th>\n",
       "      <th>Estimates</th>\n",
       "      <th>Confidence Levels</th>\n",
       "      <th>Post Market Returns</th>\n",
       "      <th>Post Model Quantity</th>\n",
       "      <th>Post Market Value</th>\n",
       "      <th>Post Market Weight</th>\n",
       "      <th>Portfolio Movement</th>\n",
       "    </tr>\n",
       "  </thead>\n",
       "  <tbody>\n",
       "    <tr>\n",
       "      <th>0</th>\n",
       "      <td>AMZN</td>\n",
       "      <td>TECH</td>\n",
       "      <td>323</td>\n",
       "      <td>94.230003</td>\n",
       "      <td>30436.291084</td>\n",
       "      <td>0.0302</td>\n",
       "      <td>0.141515</td>\n",
       "      <td>97</td>\n",
       "      <td>0.13000</td>\n",
       "      <td>0</td>\n",
       "      <td>0.129934</td>\n",
       "      <td>3523.0</td>\n",
       "      <td>329400.50</td>\n",
       "      <td>0.327869</td>\n",
       "      <td>3200.00</td>\n",
       "    </tr>\n",
       "    <tr>\n",
       "      <th>1</th>\n",
       "      <td>META</td>\n",
       "      <td>TECH</td>\n",
       "      <td>414</td>\n",
       "      <td>174.940002</td>\n",
       "      <td>72425.161011</td>\n",
       "      <td>0.0719</td>\n",
       "      <td>0.064980</td>\n",
       "      <td>180</td>\n",
       "      <td>0.06300</td>\n",
       "      <td>0</td>\n",
       "      <td>0.060604</td>\n",
       "      <td>772.0</td>\n",
       "      <td>131541.08</td>\n",
       "      <td>0.130929</td>\n",
       "      <td>358.00</td>\n",
       "    </tr>\n",
       "    <tr>\n",
       "      <th>2</th>\n",
       "      <td>TSLA</td>\n",
       "      <td>AUTOMOBILE</td>\n",
       "      <td>351</td>\n",
       "      <td>205.710007</td>\n",
       "      <td>72204.212357</td>\n",
       "      <td>0.0717</td>\n",
       "      <td>0.058158</td>\n",
       "      <td>210</td>\n",
       "      <td>0.06664</td>\n",
       "      <td>0</td>\n",
       "      <td>0.066210</td>\n",
       "      <td>731.0</td>\n",
       "      <td>143919.28</td>\n",
       "      <td>0.143250</td>\n",
       "      <td>380.00</td>\n",
       "    </tr>\n",
       "    <tr>\n",
       "      <th>3</th>\n",
       "      <td>COST</td>\n",
       "      <td>RETAIL</td>\n",
       "      <td>398</td>\n",
       "      <td>484.179993</td>\n",
       "      <td>192703.637085</td>\n",
       "      <td>0.1914</td>\n",
       "      <td>0.055666</td>\n",
       "      <td>450</td>\n",
       "      <td>0.03000</td>\n",
       "      <td>0</td>\n",
       "      <td>0.030207</td>\n",
       "      <td>39.0</td>\n",
       "      <td>19055.79</td>\n",
       "      <td>0.018967</td>\n",
       "      <td>-359.00</td>\n",
       "    </tr>\n",
       "    <tr>\n",
       "      <th>4</th>\n",
       "      <td>WMT</td>\n",
       "      <td>RETAIL</td>\n",
       "      <td>387</td>\n",
       "      <td>142.130005</td>\n",
       "      <td>55004.311890</td>\n",
       "      <td>0.0546</td>\n",
       "      <td>0.086468</td>\n",
       "      <td>138</td>\n",
       "      <td>0.06000</td>\n",
       "      <td>0</td>\n",
       "      <td>0.059029</td>\n",
       "      <td>819.0</td>\n",
       "      <td>116682.93</td>\n",
       "      <td>0.116140</td>\n",
       "      <td>432.00</td>\n",
       "    </tr>\n",
       "    <tr>\n",
       "      <th>5</th>\n",
       "      <td>JPM</td>\n",
       "      <td>FINANCE</td>\n",
       "      <td>340</td>\n",
       "      <td>143.350006</td>\n",
       "      <td>48739.002075</td>\n",
       "      <td>0.0484</td>\n",
       "      <td>0.045888</td>\n",
       "      <td>125</td>\n",
       "      <td>0.05000</td>\n",
       "      <td>0</td>\n",
       "      <td>0.050618</td>\n",
       "      <td>582.0</td>\n",
       "      <td>82021.26</td>\n",
       "      <td>0.081640</td>\n",
       "      <td>242.00</td>\n",
       "    </tr>\n",
       "    <tr>\n",
       "      <th>6</th>\n",
       "      <td>JNJ</td>\n",
       "      <td>HEALTH</td>\n",
       "      <td>401</td>\n",
       "      <td>153.259995</td>\n",
       "      <td>61457.257797</td>\n",
       "      <td>0.0610</td>\n",
       "      <td>0.068427</td>\n",
       "      <td>160</td>\n",
       "      <td>0.04000</td>\n",
       "      <td>0</td>\n",
       "      <td>0.039766</td>\n",
       "      <td>365.0</td>\n",
       "      <td>56929.05</td>\n",
       "      <td>0.056664</td>\n",
       "      <td>-36.00</td>\n",
       "    </tr>\n",
       "    <tr>\n",
       "      <th>7</th>\n",
       "      <td>CVS</td>\n",
       "      <td>HEALTH</td>\n",
       "      <td>347</td>\n",
       "      <td>83.540001</td>\n",
       "      <td>28988.380318</td>\n",
       "      <td>0.0288</td>\n",
       "      <td>0.068321</td>\n",
       "      <td>87</td>\n",
       "      <td>0.08000</td>\n",
       "      <td>0</td>\n",
       "      <td>0.061718</td>\n",
       "      <td>1458.0</td>\n",
       "      <td>125052.66</td>\n",
       "      <td>0.124471</td>\n",
       "      <td>1111.00</td>\n",
       "    </tr>\n",
       "    <tr>\n",
       "      <th>8</th>\n",
       "      <td>USD</td>\n",
       "      <td>CASH</td>\n",
       "      <td>445000</td>\n",
       "      <td>1.000000</td>\n",
       "      <td>445000.000000</td>\n",
       "      <td>0.4419</td>\n",
       "      <td>1.000000</td>\n",
       "      <td>1</td>\n",
       "      <td>0.00000</td>\n",
       "      <td>0</td>\n",
       "      <td>0.000000</td>\n",
       "      <td>NaN</td>\n",
       "      <td>69.31</td>\n",
       "      <td>0.000069</td>\n",
       "      <td>-444930.69</td>\n",
       "    </tr>\n",
       "  </tbody>\n",
       "</table>\n",
       "</div>"
      ],
      "text/plain": [
       "  Tickers     Sectors  Quantity       Price   Market Value  Current Weight  \\\n",
       "0    AMZN        TECH       323   94.230003   30436.291084          0.0302   \n",
       "1    META        TECH       414  174.940002   72425.161011          0.0719   \n",
       "2    TSLA  AUTOMOBILE       351  205.710007   72204.212357          0.0717   \n",
       "3    COST      RETAIL       398  484.179993  192703.637085          0.1914   \n",
       "4     WMT      RETAIL       387  142.130005   55004.311890          0.0546   \n",
       "5     JPM     FINANCE       340  143.350006   48739.002075          0.0484   \n",
       "6     JNJ      HEALTH       401  153.259995   61457.257797          0.0610   \n",
       "7     CVS      HEALTH       347   83.540001   28988.380318          0.0288   \n",
       "8     USD        CASH    445000    1.000000  445000.000000          0.4419   \n",
       "\n",
       "   Prior Market Returns  JPMSI Price Target  Estimates  Confidence Levels  \\\n",
       "0              0.141515                  97    0.13000                  0   \n",
       "1              0.064980                 180    0.06300                  0   \n",
       "2              0.058158                 210    0.06664                  0   \n",
       "3              0.055666                 450    0.03000                  0   \n",
       "4              0.086468                 138    0.06000                  0   \n",
       "5              0.045888                 125    0.05000                  0   \n",
       "6              0.068427                 160    0.04000                  0   \n",
       "7              0.068321                  87    0.08000                  0   \n",
       "8              1.000000                   1    0.00000                  0   \n",
       "\n",
       "   Post Market Returns  Post Model Quantity  Post Market Value  \\\n",
       "0             0.129934               3523.0          329400.50   \n",
       "1             0.060604                772.0          131541.08   \n",
       "2             0.066210                731.0          143919.28   \n",
       "3             0.030207                 39.0           19055.79   \n",
       "4             0.059029                819.0          116682.93   \n",
       "5             0.050618                582.0           82021.26   \n",
       "6             0.039766                365.0           56929.05   \n",
       "7             0.061718               1458.0          125052.66   \n",
       "8             0.000000                  NaN              69.31   \n",
       "\n",
       "   Post Market Weight  Portfolio Movement  \n",
       "0            0.327869             3200.00  \n",
       "1            0.130929              358.00  \n",
       "2            0.143250              380.00  \n",
       "3            0.018967             -359.00  \n",
       "4            0.116140              432.00  \n",
       "5            0.081640              242.00  \n",
       "6            0.056664              -36.00  \n",
       "7            0.124471             1111.00  \n",
       "8            0.000069          -444930.69  "
      ]
     },
     "execution_count": 209,
     "metadata": {},
     "output_type": "execute_result"
    }
   ],
   "source": [
    "data = pd.read_excel(r\"C:\\Users\\ADMIN\\Downloads\\Black Letterman Model\\Mock Data.xlsx\")\n",
    "tickers = data['Tickers'].to_list()\n",
    "\n",
    "def get_current_price(symbol):\n",
    "    ticker = yf.Ticker(symbol)\n",
    "    todays_data = ticker.history(period='1d')\n",
    "    return todays_data['Close'][0]\n",
    "\n",
    "stock_price = []\n",
    "for stock in tickers:\n",
    "    if stock == 'USD' :\n",
    "        stock_price.append(1.00)\n",
    "        pass\n",
    "    else:\n",
    "        price = get_current_price(stock)\n",
    "        stock_price.append(price)\n",
    "\n",
    "data['Price'] = stock_price\n",
    "data['Market Value'] = data['Quantity']*data['Price']\n",
    "portfolio_value = data['Market Value'].sum()\n",
    "print ('Total Portfolio Value in USD: '+str(round(portfolio_value,2)))\n",
    "data['Current Weight'] = round(data['Market Value']/portfolio_value,4)\n",
    "\n",
    "# model_run = 'Price Target'\n",
    "model_run = 'Estimates'\n",
    "\n",
    "if model_run == 'Price Target':\n",
    "    data['Estimates'] = data['JPMSI Price Target']/data['Price'] - 1\n",
    "elif model_run == 'Estimates':\n",
    "    pass\n",
    "\n",
    "data.to_excel(r\"C:\\Users\\ADMIN\\Downloads\\Black Letterman Model\\Mock Data.xlsx\", index = False)\n",
    "print (tickers)\n",
    "data"
   ]
  },
  {
   "cell_type": "code",
   "execution_count": 210,
   "metadata": {
    "colab": {
     "base_uri": "https://localhost:8080/",
     "height": 255
    },
    "id": "ghoX_hFkAbNg",
    "outputId": "6104b7ab-5a41-47c3-9d2b-5787517a4b99"
   },
   "outputs": [
    {
     "name": "stdout",
     "output_type": "stream",
     "text": [
      "[*********************100%***********************]  8 of 8 completed\n"
     ]
    },
    {
     "data": {
      "text/html": [
       "<div>\n",
       "<style scoped>\n",
       "    .dataframe tbody tr th:only-of-type {\n",
       "        vertical-align: middle;\n",
       "    }\n",
       "\n",
       "    .dataframe tbody tr th {\n",
       "        vertical-align: top;\n",
       "    }\n",
       "\n",
       "    .dataframe thead th {\n",
       "        text-align: right;\n",
       "    }\n",
       "</style>\n",
       "<table border=\"1\" class=\"dataframe\">\n",
       "  <thead>\n",
       "    <tr style=\"text-align: right;\">\n",
       "      <th></th>\n",
       "      <th>AMZN</th>\n",
       "      <th>COST</th>\n",
       "      <th>CVS</th>\n",
       "      <th>JNJ</th>\n",
       "      <th>JPM</th>\n",
       "      <th>META</th>\n",
       "      <th>TSLA</th>\n",
       "      <th>WMT</th>\n",
       "    </tr>\n",
       "    <tr>\n",
       "      <th>Date</th>\n",
       "      <th></th>\n",
       "      <th></th>\n",
       "      <th></th>\n",
       "      <th></th>\n",
       "      <th></th>\n",
       "      <th></th>\n",
       "      <th></th>\n",
       "      <th></th>\n",
       "    </tr>\n",
       "  </thead>\n",
       "  <tbody>\n",
       "    <tr>\n",
       "      <th>2023-02-22</th>\n",
       "      <td>95.790001</td>\n",
       "      <td>497.390015</td>\n",
       "      <td>87.209999</td>\n",
       "      <td>157.779999</td>\n",
       "      <td>138.559998</td>\n",
       "      <td>171.119995</td>\n",
       "      <td>200.860001</td>\n",
       "      <td>144.240005</td>\n",
       "    </tr>\n",
       "    <tr>\n",
       "      <th>2023-02-23</th>\n",
       "      <td>95.820000</td>\n",
       "      <td>493.140015</td>\n",
       "      <td>86.870003</td>\n",
       "      <td>157.729996</td>\n",
       "      <td>139.669998</td>\n",
       "      <td>172.039993</td>\n",
       "      <td>202.070007</td>\n",
       "      <td>142.089996</td>\n",
       "    </tr>\n",
       "    <tr>\n",
       "      <th>2023-02-24</th>\n",
       "      <td>93.500000</td>\n",
       "      <td>488.609985</td>\n",
       "      <td>85.769997</td>\n",
       "      <td>155.970001</td>\n",
       "      <td>140.929993</td>\n",
       "      <td>170.389999</td>\n",
       "      <td>196.880005</td>\n",
       "      <td>142.470001</td>\n",
       "    </tr>\n",
       "    <tr>\n",
       "      <th>2023-02-27</th>\n",
       "      <td>93.760002</td>\n",
       "      <td>487.029999</td>\n",
       "      <td>84.839996</td>\n",
       "      <td>155.630005</td>\n",
       "      <td>142.160004</td>\n",
       "      <td>169.539993</td>\n",
       "      <td>207.630005</td>\n",
       "      <td>141.440002</td>\n",
       "    </tr>\n",
       "    <tr>\n",
       "      <th>2023-02-28</th>\n",
       "      <td>94.230003</td>\n",
       "      <td>484.179993</td>\n",
       "      <td>83.540001</td>\n",
       "      <td>153.259995</td>\n",
       "      <td>143.350006</td>\n",
       "      <td>174.940002</td>\n",
       "      <td>205.710007</td>\n",
       "      <td>142.130005</td>\n",
       "    </tr>\n",
       "  </tbody>\n",
       "</table>\n",
       "</div>"
      ],
      "text/plain": [
       "                 AMZN        COST        CVS         JNJ         JPM  \\\n",
       "Date                                                                   \n",
       "2023-02-22  95.790001  497.390015  87.209999  157.779999  138.559998   \n",
       "2023-02-23  95.820000  493.140015  86.870003  157.729996  139.669998   \n",
       "2023-02-24  93.500000  488.609985  85.769997  155.970001  140.929993   \n",
       "2023-02-27  93.760002  487.029999  84.839996  155.630005  142.160004   \n",
       "2023-02-28  94.230003  484.179993  83.540001  153.259995  143.350006   \n",
       "\n",
       "                  META        TSLA         WMT  \n",
       "Date                                            \n",
       "2023-02-22  171.119995  200.860001  144.240005  \n",
       "2023-02-23  172.039993  202.070007  142.089996  \n",
       "2023-02-24  170.389999  196.880005  142.470001  \n",
       "2023-02-27  169.539993  207.630005  141.440002  \n",
       "2023-02-28  174.940002  205.710007  142.130005  "
      ]
     },
     "execution_count": 210,
     "metadata": {},
     "output_type": "execute_result"
    }
   ],
   "source": [
    "tickers.remove('USD')\n",
    "ohlc = yf.download(tickers, period=\"max\")\n",
    "prices = ohlc[\"Adj Close\"]\n",
    "prices.to_excel('Prices.xlsx')\n",
    "prices.tail()"
   ]
  },
  {
   "cell_type": "code",
   "execution_count": 211,
   "metadata": {
    "colab": {
     "base_uri": "https://localhost:8080/"
    },
    "id": "WmtKlXfLAbNi",
    "outputId": "ea14863a-b8a0-4c19-9c85-bea9fbdf29bc"
   },
   "outputs": [
    {
     "name": "stdout",
     "output_type": "stream",
     "text": [
      "[*********************100%***********************]  1 of 1 completed\n"
     ]
    },
    {
     "data": {
      "text/plain": [
       "Date\n",
       "1993-01-29    25.218227\n",
       "1993-02-01    25.397581\n",
       "1993-02-02    25.451391\n",
       "1993-02-03    25.720434\n",
       "1993-02-04    25.828056\n",
       "Name: Adj Close, dtype: float64"
      ]
     },
     "execution_count": 211,
     "metadata": {},
     "output_type": "execute_result"
    }
   ],
   "source": [
    "market_prices = yf.download(\"SPY\", period=\"max\")[\"Adj Close\"]\n",
    "market_prices.to_excel('Market Prices.xlsx')\n",
    "market_prices.head()"
   ]
  },
  {
   "cell_type": "code",
   "execution_count": 19,
   "metadata": {
    "colab": {
     "base_uri": "https://localhost:8080/"
    },
    "id": "rZwXHHxxAbNi",
    "outputId": "dee319be-67e2-44e7-e576-96c2b934d139"
   },
   "outputs": [
    {
     "name": "stdout",
     "output_type": "stream",
     "text": [
      "loading market cap data\n"
     ]
    },
    {
     "data": {
      "text/plain": [
       "AMZN    958122557440\n",
       "META    441759924224\n",
       "TSLA    622948057088\n",
       "COST    216810422272\n",
       "WMT     384213090304\n",
       "JPM     414807687168\n",
       "JNJ     406191112192\n",
       "CVS     110138105856\n",
       "Name: marketCap, dtype: int64"
      ]
     },
     "execution_count": 19,
     "metadata": {},
     "output_type": "execute_result"
    }
   ],
   "source": [
    "from datetime import date\n",
    "from pandas_datareader import data as pd_data\n",
    "\n",
    "# mcaps = {}\n",
    "# for t in tickers:\n",
    "#     stock = yf.Ticker(t)\n",
    "#     mcaps[t] = stock.info[\"marketCap\"]\n",
    "\n",
    "def load_mkt_caps(symbols, curr_date):\n",
    "    print('loading market cap data')\n",
    "    mcaps = pd_data.get_quote_yahoo(symbols)['marketCap']\n",
    "    missing_mcap_symbols = mcaps[mcaps.isnull()].index\n",
    "    for symbol in missing_mcap_symbols:\n",
    "        if symbol == 'USD':\n",
    "            pass\n",
    "        else:\n",
    "            print('attempting to find market cap info for', symbol)\n",
    "            data = yfinance.Ticker(symbol)\n",
    "            if data.info['quoteType'] == 'ETF' or data.info['quoteType'] == 'MUTUALFUND': \n",
    "                mcap = (data.info['totalAssets'])\n",
    "                print('adding market cap info for', symbol)\n",
    "                mcaps.loc[symbol] = mcap\n",
    "            else:\n",
    "                print('Failed to find market cap for', symbol)\n",
    "                sys.exit(-1)\n",
    "    return mcaps\n",
    "\n",
    "mcaps = (load_mkt_caps(tickers,date.today()))\n",
    "# pd.set_option('display.float_format', lambda x: f'{x:.0f}')\n",
    "# mcaps['USD'] = 0\n",
    "mcaps"
   ]
  },
  {
   "cell_type": "markdown",
   "metadata": {
    "id": "w6cnqTB8AbNi",
    "tags": []
   },
   "source": [
    "## Constructing the prior"
   ]
  },
  {
   "cell_type": "code",
   "execution_count": 807,
   "metadata": {
    "colab": {
     "base_uri": "https://localhost:8080/",
     "height": 35
    },
    "id": "KMyL_d0mAbNj",
    "outputId": "83c8ff0b-6ac3-4c80-9bea-8f6216384238"
   },
   "outputs": [
    {
     "data": {
      "text/plain": [
       "'1.5.4'"
      ]
     },
     "execution_count": 807,
     "metadata": {},
     "output_type": "execute_result"
    }
   ],
   "source": [
    "import pypfopt\n",
    "pypfopt.__version__"
   ]
  },
  {
   "cell_type": "code",
   "execution_count": 22,
   "metadata": {
    "colab": {
     "base_uri": "https://localhost:8080/"
    },
    "id": "V35ccSUSAbNj",
    "outputId": "bdc6d9bc-33c2-47b6-ac60-c43a4cfed6b5"
   },
   "outputs": [
    {
     "data": {
      "text/html": [
       "<div>\n",
       "<style scoped>\n",
       "    .dataframe tbody tr th:only-of-type {\n",
       "        vertical-align: middle;\n",
       "    }\n",
       "\n",
       "    .dataframe tbody tr th {\n",
       "        vertical-align: top;\n",
       "    }\n",
       "\n",
       "    .dataframe thead th {\n",
       "        text-align: right;\n",
       "    }\n",
       "</style>\n",
       "<table border=\"1\" class=\"dataframe\">\n",
       "  <thead>\n",
       "    <tr style=\"text-align: right;\">\n",
       "      <th></th>\n",
       "      <th>AMZN</th>\n",
       "      <th>COST</th>\n",
       "      <th>CVS</th>\n",
       "      <th>JNJ</th>\n",
       "      <th>JPM</th>\n",
       "      <th>META</th>\n",
       "      <th>TSLA</th>\n",
       "      <th>WMT</th>\n",
       "    </tr>\n",
       "  </thead>\n",
       "  <tbody>\n",
       "    <tr>\n",
       "      <th>AMZN</th>\n",
       "      <td>0.138494</td>\n",
       "      <td>0.020319</td>\n",
       "      <td>0.013659</td>\n",
       "      <td>0.007802</td>\n",
       "      <td>0.027623</td>\n",
       "      <td>0.011426</td>\n",
       "      <td>0.013768</td>\n",
       "      <td>0.014792</td>\n",
       "    </tr>\n",
       "    <tr>\n",
       "      <th>COST</th>\n",
       "      <td>0.020319</td>\n",
       "      <td>0.060806</td>\n",
       "      <td>0.017086</td>\n",
       "      <td>0.012645</td>\n",
       "      <td>0.022929</td>\n",
       "      <td>0.004267</td>\n",
       "      <td>0.006187</td>\n",
       "      <td>0.023288</td>\n",
       "    </tr>\n",
       "    <tr>\n",
       "      <th>CVS</th>\n",
       "      <td>0.013659</td>\n",
       "      <td>0.017086</td>\n",
       "      <td>0.077699</td>\n",
       "      <td>0.016918</td>\n",
       "      <td>0.022756</td>\n",
       "      <td>0.003055</td>\n",
       "      <td>0.004685</td>\n",
       "      <td>0.021481</td>\n",
       "    </tr>\n",
       "    <tr>\n",
       "      <th>JNJ</th>\n",
       "      <td>0.007802</td>\n",
       "      <td>0.012645</td>\n",
       "      <td>0.016918</td>\n",
       "      <td>0.053062</td>\n",
       "      <td>0.017405</td>\n",
       "      <td>0.002856</td>\n",
       "      <td>0.003095</td>\n",
       "      <td>0.017178</td>\n",
       "    </tr>\n",
       "    <tr>\n",
       "      <th>JPM</th>\n",
       "      <td>0.027623</td>\n",
       "      <td>0.022929</td>\n",
       "      <td>0.022756</td>\n",
       "      <td>0.017405</td>\n",
       "      <td>0.089573</td>\n",
       "      <td>0.005588</td>\n",
       "      <td>0.008436</td>\n",
       "      <td>0.022084</td>\n",
       "    </tr>\n",
       "    <tr>\n",
       "      <th>META</th>\n",
       "      <td>0.011426</td>\n",
       "      <td>0.004267</td>\n",
       "      <td>0.003055</td>\n",
       "      <td>0.002856</td>\n",
       "      <td>0.005588</td>\n",
       "      <td>0.029437</td>\n",
       "      <td>0.011475</td>\n",
       "      <td>0.002390</td>\n",
       "    </tr>\n",
       "    <tr>\n",
       "      <th>TSLA</th>\n",
       "      <td>0.013768</td>\n",
       "      <td>0.006187</td>\n",
       "      <td>0.004685</td>\n",
       "      <td>0.003095</td>\n",
       "      <td>0.008436</td>\n",
       "      <td>0.011475</td>\n",
       "      <td>0.068449</td>\n",
       "      <td>0.003244</td>\n",
       "    </tr>\n",
       "    <tr>\n",
       "      <th>WMT</th>\n",
       "      <td>0.014792</td>\n",
       "      <td>0.023288</td>\n",
       "      <td>0.021481</td>\n",
       "      <td>0.017178</td>\n",
       "      <td>0.022084</td>\n",
       "      <td>0.002390</td>\n",
       "      <td>0.003244</td>\n",
       "      <td>0.072377</td>\n",
       "    </tr>\n",
       "  </tbody>\n",
       "</table>\n",
       "</div>"
      ],
      "text/plain": [
       "          AMZN      COST       CVS       JNJ       JPM      META      TSLA  \\\n",
       "AMZN  0.138494  0.020319  0.013659  0.007802  0.027623  0.011426  0.013768   \n",
       "COST  0.020319  0.060806  0.017086  0.012645  0.022929  0.004267  0.006187   \n",
       "CVS   0.013659  0.017086  0.077699  0.016918  0.022756  0.003055  0.004685   \n",
       "JNJ   0.007802  0.012645  0.016918  0.053062  0.017405  0.002856  0.003095   \n",
       "JPM   0.027623  0.022929  0.022756  0.017405  0.089573  0.005588  0.008436   \n",
       "META  0.011426  0.004267  0.003055  0.002856  0.005588  0.029437  0.011475   \n",
       "TSLA  0.013768  0.006187  0.004685  0.003095  0.008436  0.011475  0.068449   \n",
       "WMT   0.014792  0.023288  0.021481  0.017178  0.022084  0.002390  0.003244   \n",
       "\n",
       "           WMT  \n",
       "AMZN  0.014792  \n",
       "COST  0.023288  \n",
       "CVS   0.021481  \n",
       "JNJ   0.017178  \n",
       "JPM   0.022084  \n",
       "META  0.002390  \n",
       "TSLA  0.003244  \n",
       "WMT   0.072377  "
      ]
     },
     "execution_count": 22,
     "metadata": {},
     "output_type": "execute_result"
    }
   ],
   "source": [
    "from pypfopt import black_litterman, risk_models\n",
    "from pypfopt import BlackLittermanModel, plotting\n",
    "\n",
    "S = risk_models.CovarianceShrinkage(prices).ledoit_wolf()\n",
    "delta = black_litterman.market_implied_risk_aversion(market_prices)\n",
    "S"
   ]
  },
  {
   "cell_type": "code",
   "execution_count": 21,
   "metadata": {
    "colab": {
     "base_uri": "https://localhost:8080/",
     "height": 297
    },
    "id": "tgz3bOltAbNj",
    "outputId": "41740df8-87ca-45c7-b0ef-4af343ae3b0a"
   },
   "outputs": [
    {
     "data": {
      "image/png": "[encoded data removed]",
      "text/plain": [
       "<Figure size 640x480 with 2 Axes>"
      ]
     },
     "metadata": {},
     "output_type": "display_data"
    }
   ],
   "source": [
    "plotting.plot_covariance(S, plot_correlation=True);"
   ]
  },
  {
   "cell_type": "code",
   "execution_count": 23,
   "metadata": {
    "colab": {
     "base_uri": "https://localhost:8080/"
    },
    "id": "qknxazUhAbNk",
    "outputId": "eb6b5bdf-7a31-4c76-90e0-ca2a751126ee"
   },
   "outputs": [
    {
     "data": {
      "text/html": [
       "<div>\n",
       "<style scoped>\n",
       "    .dataframe tbody tr th:only-of-type {\n",
       "        vertical-align: middle;\n",
       "    }\n",
       "\n",
       "    .dataframe tbody tr th {\n",
       "        vertical-align: top;\n",
       "    }\n",
       "\n",
       "    .dataframe thead th {\n",
       "        text-align: right;\n",
       "    }\n",
       "</style>\n",
       "<table border=\"1\" class=\"dataframe\">\n",
       "  <thead>\n",
       "    <tr style=\"text-align: right;\">\n",
       "      <th></th>\n",
       "      <th>Tickers</th>\n",
       "      <th>Sectors</th>\n",
       "      <th>Quantity</th>\n",
       "      <th>Price</th>\n",
       "      <th>Market Value</th>\n",
       "      <th>Current Weight</th>\n",
       "      <th>Prior Market Returns</th>\n",
       "      <th>JPMSI Price Target</th>\n",
       "      <th>Estimates</th>\n",
       "      <th>Confidence Levels</th>\n",
       "      <th>Post Market Returns</th>\n",
       "      <th>Post Model Quantity</th>\n",
       "      <th>Post Market Value</th>\n",
       "      <th>Post Market Weight</th>\n",
       "      <th>Portfolio Movement</th>\n",
       "    </tr>\n",
       "  </thead>\n",
       "  <tbody>\n",
       "    <tr>\n",
       "      <th>0</th>\n",
       "      <td>AMZN</td>\n",
       "      <td>TECH</td>\n",
       "      <td>323</td>\n",
       "      <td>93.500000</td>\n",
       "      <td>30200.500000</td>\n",
       "      <td>0.0301</td>\n",
       "      <td>0.141515</td>\n",
       "      <td>97</td>\n",
       "      <td>0.13000</td>\n",
       "      <td>0</td>\n",
       "      <td>0.129934</td>\n",
       "      <td>1929.0</td>\n",
       "      <td>180361.50</td>\n",
       "      <td>0.179523</td>\n",
       "      <td>1606.00</td>\n",
       "    </tr>\n",
       "    <tr>\n",
       "      <th>1</th>\n",
       "      <td>META</td>\n",
       "      <td>TECH</td>\n",
       "      <td>414</td>\n",
       "      <td>170.389999</td>\n",
       "      <td>70541.459747</td>\n",
       "      <td>0.0702</td>\n",
       "      <td>0.064980</td>\n",
       "      <td>180</td>\n",
       "      <td>0.06300</td>\n",
       "      <td>0</td>\n",
       "      <td>0.060604</td>\n",
       "      <td>423.0</td>\n",
       "      <td>72074.97</td>\n",
       "      <td>0.071740</td>\n",
       "      <td>9.00</td>\n",
       "    </tr>\n",
       "    <tr>\n",
       "      <th>2</th>\n",
       "      <td>TSLA</td>\n",
       "      <td>AUTOMOBILE</td>\n",
       "      <td>351</td>\n",
       "      <td>196.880005</td>\n",
       "      <td>69104.881714</td>\n",
       "      <td>0.0688</td>\n",
       "      <td>0.058158</td>\n",
       "      <td>210</td>\n",
       "      <td>0.06664</td>\n",
       "      <td>0</td>\n",
       "      <td>0.066210</td>\n",
       "      <td>400.0</td>\n",
       "      <td>78752.00</td>\n",
       "      <td>0.078386</td>\n",
       "      <td>49.00</td>\n",
       "    </tr>\n",
       "    <tr>\n",
       "      <th>3</th>\n",
       "      <td>COST</td>\n",
       "      <td>RETAIL</td>\n",
       "      <td>398</td>\n",
       "      <td>488.609985</td>\n",
       "      <td>194466.774170</td>\n",
       "      <td>0.1936</td>\n",
       "      <td>0.055666</td>\n",
       "      <td>450</td>\n",
       "      <td>0.03000</td>\n",
       "      <td>0</td>\n",
       "      <td>0.030207</td>\n",
       "      <td>21.0</td>\n",
       "      <td>10260.81</td>\n",
       "      <td>0.010213</td>\n",
       "      <td>-377.00</td>\n",
       "    </tr>\n",
       "    <tr>\n",
       "      <th>4</th>\n",
       "      <td>WMT</td>\n",
       "      <td>RETAIL</td>\n",
       "      <td>387</td>\n",
       "      <td>142.470001</td>\n",
       "      <td>55135.890472</td>\n",
       "      <td>0.0549</td>\n",
       "      <td>0.086468</td>\n",
       "      <td>138</td>\n",
       "      <td>0.06000</td>\n",
       "      <td>0</td>\n",
       "      <td>0.059029</td>\n",
       "      <td>448.0</td>\n",
       "      <td>63826.56</td>\n",
       "      <td>0.063530</td>\n",
       "      <td>61.00</td>\n",
       "    </tr>\n",
       "    <tr>\n",
       "      <th>5</th>\n",
       "      <td>JPM</td>\n",
       "      <td>FINANCE</td>\n",
       "      <td>340</td>\n",
       "      <td>140.929993</td>\n",
       "      <td>47916.197510</td>\n",
       "      <td>0.0477</td>\n",
       "      <td>0.045888</td>\n",
       "      <td>125</td>\n",
       "      <td>0.05000</td>\n",
       "      <td>0</td>\n",
       "      <td>0.050618</td>\n",
       "      <td>319.0</td>\n",
       "      <td>44956.67</td>\n",
       "      <td>0.044748</td>\n",
       "      <td>-21.00</td>\n",
       "    </tr>\n",
       "    <tr>\n",
       "      <th>6</th>\n",
       "      <td>JNJ</td>\n",
       "      <td>HEALTH</td>\n",
       "      <td>401</td>\n",
       "      <td>155.970001</td>\n",
       "      <td>62543.970490</td>\n",
       "      <td>0.0623</td>\n",
       "      <td>0.068427</td>\n",
       "      <td>160</td>\n",
       "      <td>0.04000</td>\n",
       "      <td>0</td>\n",
       "      <td>0.039766</td>\n",
       "      <td>200.0</td>\n",
       "      <td>31194.00</td>\n",
       "      <td>0.031049</td>\n",
       "      <td>-201.00</td>\n",
       "    </tr>\n",
       "    <tr>\n",
       "      <th>7</th>\n",
       "      <td>CVS</td>\n",
       "      <td>HEALTH</td>\n",
       "      <td>347</td>\n",
       "      <td>85.769997</td>\n",
       "      <td>29762.188835</td>\n",
       "      <td>0.0296</td>\n",
       "      <td>0.068321</td>\n",
       "      <td>87</td>\n",
       "      <td>0.08000</td>\n",
       "      <td>0</td>\n",
       "      <td>0.061718</td>\n",
       "      <td>798.0</td>\n",
       "      <td>68444.46</td>\n",
       "      <td>0.068126</td>\n",
       "      <td>451.00</td>\n",
       "    </tr>\n",
       "    <tr>\n",
       "      <th>8</th>\n",
       "      <td>USD</td>\n",
       "      <td>CASH</td>\n",
       "      <td>445000</td>\n",
       "      <td>1.000000</td>\n",
       "      <td>445000.000000</td>\n",
       "      <td>0.4429</td>\n",
       "      <td>1.000000</td>\n",
       "      <td>1</td>\n",
       "      <td>0.00000</td>\n",
       "      <td>0</td>\n",
       "      <td>0.000000</td>\n",
       "      <td>NaN</td>\n",
       "      <td>454800.89</td>\n",
       "      <td>0.452686</td>\n",
       "      <td>9800.89</td>\n",
       "    </tr>\n",
       "  </tbody>\n",
       "</table>\n",
       "</div>"
      ],
      "text/plain": [
       "  Tickers     Sectors  Quantity       Price   Market Value  Current Weight  \\\n",
       "0    AMZN        TECH       323   93.500000   30200.500000          0.0301   \n",
       "1    META        TECH       414  170.389999   70541.459747          0.0702   \n",
       "2    TSLA  AUTOMOBILE       351  196.880005   69104.881714          0.0688   \n",
       "3    COST      RETAIL       398  488.609985  194466.774170          0.1936   \n",
       "4     WMT      RETAIL       387  142.470001   55135.890472          0.0549   \n",
       "5     JPM     FINANCE       340  140.929993   47916.197510          0.0477   \n",
       "6     JNJ      HEALTH       401  155.970001   62543.970490          0.0623   \n",
       "7     CVS      HEALTH       347   85.769997   29762.188835          0.0296   \n",
       "8     USD        CASH    445000    1.000000  445000.000000          0.4429   \n",
       "\n",
       "   Prior Market Returns  JPMSI Price Target  Estimates  Confidence Levels  \\\n",
       "0              0.141515                  97    0.13000                  0   \n",
       "1              0.064980                 180    0.06300                  0   \n",
       "2              0.058158                 210    0.06664                  0   \n",
       "3              0.055666                 450    0.03000                  0   \n",
       "4              0.086468                 138    0.06000                  0   \n",
       "5              0.045888                 125    0.05000                  0   \n",
       "6              0.068427                 160    0.04000                  0   \n",
       "7              0.068321                  87    0.08000                  0   \n",
       "8              1.000000                   1    0.00000                  0   \n",
       "\n",
       "   Post Market Returns  Post Model Quantity  Post Market Value  \\\n",
       "0             0.129934               1929.0          180361.50   \n",
       "1             0.060604                423.0           72074.97   \n",
       "2             0.066210                400.0           78752.00   \n",
       "3             0.030207                 21.0           10260.81   \n",
       "4             0.059029                448.0           63826.56   \n",
       "5             0.050618                319.0           44956.67   \n",
       "6             0.039766                200.0           31194.00   \n",
       "7             0.061718                798.0           68444.46   \n",
       "8             0.000000                  NaN          454800.89   \n",
       "\n",
       "   Post Market Weight  Portfolio Movement  \n",
       "0            0.179523             1606.00  \n",
       "1            0.071740                9.00  \n",
       "2            0.078386               49.00  \n",
       "3            0.010213             -377.00  \n",
       "4            0.063530               61.00  \n",
       "5            0.044748              -21.00  \n",
       "6            0.031049             -201.00  \n",
       "7            0.068126              451.00  \n",
       "8            0.452686             9800.89  "
      ]
     },
     "execution_count": 23,
     "metadata": {},
     "output_type": "execute_result"
    }
   ],
   "source": [
    "market_prior = black_litterman.market_implied_prior_returns(mcaps, delta, S)\n",
    "market_prior_list = market_prior[0:].tolist()\n",
    "market_prior_list.append(1)\n",
    "data['Prior Market Returns'] = market_prior_list\n",
    "data.to_excel(r\"C:\\Users\\ADMIN\\Downloads\\Black Letterman Model\\Mock Data.xlsx\",index = False)\n",
    "data"
   ]
  },
  {
   "cell_type": "code",
   "execution_count": 24,
   "metadata": {
    "colab": {
     "base_uri": "https://localhost:8080/",
     "height": 320
    },
    "id": "9exlhi1BAbNk",
    "outputId": "a1292c4b-38b9-4c02-919d-b9cf33a4309e"
   },
   "outputs": [
    {
     "data": {
      "image/png": "[encoded data removed]",
      "text/plain": [
       "<Figure size 1000x500 with 1 Axes>"
      ]
     },
     "metadata": {},
     "output_type": "display_data"
    }
   ],
   "source": [
    "market_prior.plot.barh(figsize=(10,5));"
   ]
  },
  {
   "cell_type": "markdown",
   "metadata": {
    "id": "v1YzJTJFAbNl"
   },
   "source": [
    "## Views\n",
    "\n",
    "In the BL method, views are specified via the matrix P (picking matrix) and the vector Q. Q contains the magnitude of each view, while P maps the views to the assets they belong to. \n",
    "\n",
    "If you are providing **absolute views** (i.e a return estimate for each asset), you don't have to worry about P and Q, you can just pass your views as a dictionary."
   ]
  },
  {
   "cell_type": "code",
   "execution_count": 25,
   "metadata": {},
   "outputs": [
    {
     "data": {
      "text/plain": [
       "{'AMZN': 0.13,\n",
       " 'META': 0.063,\n",
       " 'TSLA': 0.06663955095387575,\n",
       " 'COST': 0.03,\n",
       " 'WMT': 0.06,\n",
       " 'JPM': 0.05,\n",
       " 'JNJ': 0.04,\n",
       " 'CVS': 0.08}"
      ]
     },
     "execution_count": 25,
     "metadata": {},
     "output_type": "execute_result"
    }
   ],
   "source": [
    "e_df = pd.DataFrame(data['Estimates'])\n",
    "e_df = e_df.reset_index(drop=True)\n",
    "e_df.index = data['Tickers'].to_list()\n",
    "e_df = e_df.drop ('USD')\n",
    "edict = e_df.to_dict('dict')['Estimates']\n",
    "edict"
   ]
  },
  {
   "cell_type": "code",
   "execution_count": 26,
   "metadata": {
    "id": "uTP2BVZIAbNl"
   },
   "outputs": [],
   "source": [
    "bl = BlackLittermanModel(S, pi=market_prior, absolute_views=edict)"
   ]
  },
  {
   "cell_type": "markdown",
   "metadata": {
    "id": "fA5PRsozAbNm"
   },
   "source": [
    "Black-Litterman also allows for relative views, e.g you think asset A will outperform asset B by 10%. If you'd like to incorporate these, you will have to build P and Q yourself. An explanation for this is given in the [docs](https://pyportfolioopt.readthedocs.io/en/latest/BlackLitterman.html#views)."
   ]
  },
  {
   "cell_type": "markdown",
   "metadata": {
    "id": "QIMKGZEoAbNm"
   },
   "source": [
    "## View confidences\n",
    "\n",
    "In this section, we provide two ways that you may wish to construct the uncertainty matrix. The first is known as Idzorek's method. It allows you to specify a vector/list of percentage confidences."
   ]
  },
  {
   "cell_type": "code",
   "execution_count": 27,
   "metadata": {},
   "outputs": [
    {
     "data": {
      "text/plain": [
       "[0, 0, 0, 0, 0, 0, 0, 0]"
      ]
     },
     "execution_count": 27,
     "metadata": {},
     "output_type": "execute_result"
    }
   ],
   "source": [
    "confidences = data['Confidence Levels'].to_list()\n",
    "del confidences[-1]\n",
    "confidences"
   ]
  },
  {
   "cell_type": "code",
   "execution_count": 28,
   "metadata": {
    "id": "EaRmLt4IAbNm"
   },
   "outputs": [],
   "source": [
    "bl = BlackLittermanModel(S, pi=market_prior, absolute_views=edict, omega=\"idzorek\", view_confidences=confidences)"
   ]
  },
  {
   "cell_type": "code",
   "execution_count": 29,
   "metadata": {
    "colab": {
     "base_uri": "https://localhost:8080/",
     "height": 428
    },
    "id": "fo6SKTGAAbNn",
    "outputId": "49517772-73fa-405b-a164-8a39c1456faf"
   },
   "outputs": [
    {
     "data": {
      "image/png": "[encoded data removed]",
      "text/plain": [
       "<Figure size 700x700 with 1 Axes>"
      ]
     },
     "metadata": {},
     "output_type": "display_data"
    }
   ],
   "source": [
    "fig, ax = plt.subplots(figsize=(7,7))\n",
    "im = ax.imshow(bl.omega)\n",
    "\n",
    "# We want to show all ticks...\n",
    "ax.set_xticks(np.arange(len(bl.tickers)))\n",
    "ax.set_yticks(np.arange(len(bl.tickers)))\n",
    "\n",
    "ax.set_xticklabels(bl.tickers)\n",
    "ax.set_yticklabels(bl.tickers)\n",
    "plt.show()"
   ]
  },
  {
   "cell_type": "code",
   "execution_count": 30,
   "metadata": {
    "colab": {
     "base_uri": "https://localhost:8080/"
    },
    "id": "58aBtbhuAbNn",
    "outputId": "31bcfa00-46ba-4600-b626-c7cf15a352b8"
   },
   "outputs": [
    {
     "data": {
      "text/plain": [
       "array([1000000., 1000000., 1000000., 1000000., 1000000., 1000000.,\n",
       "       1000000., 1000000.])"
      ]
     },
     "execution_count": 30,
     "metadata": {},
     "output_type": "execute_result"
    }
   ],
   "source": [
    "np.diag(bl.omega)"
   ]
  },
  {
   "cell_type": "markdown",
   "metadata": {
    "id": "lUGduOmsAbNn"
   },
   "source": [
    "Note how NAT, which we gave the lowest confidence, also has the highest uncertainty.\n",
    "\n",
    "Instead of inputting confidences, we can calculate the uncertainty matrix directly by specifying 1 standard deviation confidence intervals, i.e bounds which we think will contain the true return 68% of the time. This may be easier than coming up with somewhat arbitrary percentage confidences"
   ]
  },
  {
   "cell_type": "code",
   "execution_count": 31,
   "metadata": {
    "id": "QQtnWs9xAbNn"
   },
   "outputs": [],
   "source": [
    "intervals = [\n",
    "    (0.08, 0.11),\n",
    "    (0.05, 0.07),\n",
    "    (0.05, 0.08),\n",
    "    (0.025, 0.035),\n",
    "    (0.04, 0.07),\n",
    "    (0.04, 0.06),\n",
    "    (0, 0.05),\n",
    "    (0, 0.1)\n",
    "]"
   ]
  },
  {
   "cell_type": "code",
   "execution_count": 32,
   "metadata": {
    "colab": {
     "base_uri": "https://localhost:8080/"
    },
    "id": "avW4ld8bAbNo",
    "outputId": "540d7109-e20f-4eb4-e32d-fb16ae670a5b"
   },
   "outputs": [
    {
     "name": "stdout",
     "output_type": "stream",
     "text": [
      "[0.000225, 0.00010000000000000005, 0.000225, 2.500000000000001e-05, 0.00022500000000000008, 9.999999999999996e-05, 0.0006250000000000001, 0.0025000000000000005]\n"
     ]
    }
   ],
   "source": [
    "variances = []\n",
    "for lb, ub in intervals:\n",
    "    sigma = (ub - lb)/2\n",
    "    variances.append(sigma ** 2)\n",
    "\n",
    "print(variances)\n",
    "omega = np.diag(variances)"
   ]
  },
  {
   "cell_type": "markdown",
   "metadata": {
    "id": "VlVq9sICAbNo"
   },
   "source": [
    "## Posterior estimates\n",
    "\n",
    "Given the inputs, we can compute a posterior estimate of returns\n"
   ]
  },
  {
   "cell_type": "code",
   "execution_count": 33,
   "metadata": {
    "id": "478dHIDHAbNo"
   },
   "outputs": [],
   "source": [
    "# We are using the shortcut to automatically compute market-implied prior\n",
    "bl = BlackLittermanModel(S, pi=\"market\", market_caps=mcaps, risk_aversion=delta,\n",
    "                        absolute_views=edict, omega=omega)"
   ]
  },
  {
   "cell_type": "code",
   "execution_count": 34,
   "metadata": {
    "colab": {
     "base_uri": "https://localhost:8080/"
    },
    "id": "A9VSO7xAAbNo",
    "outputId": "c501cc36-8719-4826-d2b9-c138ab2f46c5"
   },
   "outputs": [
    {
     "data": {
      "text/plain": [
       "AMZN    0.129934\n",
       "COST    0.030207\n",
       "CVS     0.061718\n",
       "JNJ     0.039766\n",
       "JPM     0.050618\n",
       "META    0.060604\n",
       "TSLA    0.066210\n",
       "WMT     0.059029\n",
       "dtype: float64"
      ]
     },
     "execution_count": 34,
     "metadata": {},
     "output_type": "execute_result"
    }
   ],
   "source": [
    "# Posterior estimate of returns\n",
    "ret_bl = bl.bl_returns()\n",
    "ret_bl"
   ]
  },
  {
   "cell_type": "markdown",
   "metadata": {
    "id": "eRKmlKABAbNo"
   },
   "source": [
    "We can visualise how this compares to the prior and our views:"
   ]
  },
  {
   "cell_type": "code",
   "execution_count": 35,
   "metadata": {
    "colab": {
     "base_uri": "https://localhost:8080/",
     "height": 363
    },
    "id": "KHfvi6KvAbNp",
    "outputId": "ee876b7b-a24c-4dea-c344-a1c8a5c6c7d4"
   },
   "outputs": [
    {
     "data": {
      "text/html": [
       "<div>\n",
       "<style scoped>\n",
       "    .dataframe tbody tr th:only-of-type {\n",
       "        vertical-align: middle;\n",
       "    }\n",
       "\n",
       "    .dataframe tbody tr th {\n",
       "        vertical-align: top;\n",
       "    }\n",
       "\n",
       "    .dataframe thead th {\n",
       "        text-align: right;\n",
       "    }\n",
       "</style>\n",
       "<table border=\"1\" class=\"dataframe\">\n",
       "  <thead>\n",
       "    <tr style=\"text-align: right;\">\n",
       "      <th></th>\n",
       "      <th>Prior</th>\n",
       "      <th>Posterior</th>\n",
       "      <th>Estimates</th>\n",
       "    </tr>\n",
       "  </thead>\n",
       "  <tbody>\n",
       "    <tr>\n",
       "      <th>AMZN</th>\n",
       "      <td>0.141515</td>\n",
       "      <td>0.129934</td>\n",
       "      <td>0.13000</td>\n",
       "    </tr>\n",
       "    <tr>\n",
       "      <th>COST</th>\n",
       "      <td>0.064980</td>\n",
       "      <td>0.030207</td>\n",
       "      <td>0.03000</td>\n",
       "    </tr>\n",
       "    <tr>\n",
       "      <th>CVS</th>\n",
       "      <td>0.058158</td>\n",
       "      <td>0.061718</td>\n",
       "      <td>0.08000</td>\n",
       "    </tr>\n",
       "    <tr>\n",
       "      <th>JNJ</th>\n",
       "      <td>0.055666</td>\n",
       "      <td>0.039766</td>\n",
       "      <td>0.04000</td>\n",
       "    </tr>\n",
       "    <tr>\n",
       "      <th>JPM</th>\n",
       "      <td>0.086468</td>\n",
       "      <td>0.050618</td>\n",
       "      <td>0.05000</td>\n",
       "    </tr>\n",
       "    <tr>\n",
       "      <th>META</th>\n",
       "      <td>0.045888</td>\n",
       "      <td>0.060604</td>\n",
       "      <td>0.06300</td>\n",
       "    </tr>\n",
       "    <tr>\n",
       "      <th>TSLA</th>\n",
       "      <td>0.068427</td>\n",
       "      <td>0.066210</td>\n",
       "      <td>0.06664</td>\n",
       "    </tr>\n",
       "    <tr>\n",
       "      <th>WMT</th>\n",
       "      <td>0.068321</td>\n",
       "      <td>0.059029</td>\n",
       "      <td>0.06000</td>\n",
       "    </tr>\n",
       "  </tbody>\n",
       "</table>\n",
       "</div>"
      ],
      "text/plain": [
       "         Prior  Posterior  Estimates\n",
       "AMZN  0.141515   0.129934    0.13000\n",
       "COST  0.064980   0.030207    0.03000\n",
       "CVS   0.058158   0.061718    0.08000\n",
       "JNJ   0.055666   0.039766    0.04000\n",
       "JPM   0.086468   0.050618    0.05000\n",
       "META  0.045888   0.060604    0.06300\n",
       "TSLA  0.068427   0.066210    0.06664\n",
       "WMT   0.068321   0.059029    0.06000"
      ]
     },
     "execution_count": 35,
     "metadata": {},
     "output_type": "execute_result"
    }
   ],
   "source": [
    "rets_df = pd.DataFrame([market_prior, ret_bl, pd.Series(edict)], \n",
    "             index=[\"Prior\", \"Posterior\", \"Estimates\"]).T\n",
    "rets_df"
   ]
  },
  {
   "cell_type": "code",
   "execution_count": 36,
   "metadata": {
    "colab": {
     "base_uri": "https://localhost:8080/",
     "height": 503
    },
    "id": "n55wKWFuAbNp",
    "outputId": "9445d68a-279e-4cfe-85a6-0609e411b03c"
   },
   "outputs": [
    {
     "data": {
      "image/png": "[encoded data removed]",
      "text/plain": [
       "<Figure size 1200x800 with 1 Axes>"
      ]
     },
     "metadata": {},
     "output_type": "display_data"
    }
   ],
   "source": [
    "rets_df.plot.bar(figsize=(12,8));"
   ]
  },
  {
   "cell_type": "markdown",
   "metadata": {
    "id": "fuizxt0NAbNp"
   },
   "source": [
    "Notice that the posterior is often between the prior and the views. This supports the fact that the BL method is essentially a Bayesian weighted-average of the prior and views, where the weight is determined by the confidence.\n",
    "\n",
    "A similar but less intuitive procedure can be used to produce the posterior covariance estimate:"
   ]
  },
  {
   "cell_type": "code",
   "execution_count": 37,
   "metadata": {
    "colab": {
     "base_uri": "https://localhost:8080/",
     "height": 297
    },
    "id": "i6S1l2-aAbNp",
    "outputId": "411f2876-67fb-4d2d-8f88-4b63463bf10f"
   },
   "outputs": [
    {
     "data": {
      "image/png": "[encoded data removed]",
      "text/plain": [
       "<Figure size 640x480 with 2 Axes>"
      ]
     },
     "metadata": {},
     "output_type": "display_data"
    }
   ],
   "source": [
    "S_bl = bl.bl_cov()\n",
    "plotting.plot_covariance(S_bl);"
   ]
  },
  {
   "cell_type": "markdown",
   "metadata": {
    "id": "YC9fNRAbAbNp"
   },
   "source": [
    "## Portfolio allocation\n",
    "\n",
    "Now that we have constructed our Black-Litterman posterior estimate, we can proceed to use any of the optimizers discussed in previous recipes."
   ]
  },
  {
   "cell_type": "code",
   "execution_count": 38,
   "metadata": {
    "id": "hDS0vIUCAbNp"
   },
   "outputs": [],
   "source": [
    "from pypfopt import EfficientFrontier, objective_functions"
   ]
  },
  {
   "cell_type": "code",
   "execution_count": 171,
   "metadata": {
    "colab": {
     "base_uri": "https://localhost:8080/"
    },
    "id": "qylII3-oAbNp",
    "outputId": "f81f870a-3181-42ba-afcf-321674ddf5d7"
   },
   "outputs": [
    {
     "name": "stderr",
     "output_type": "stream",
     "text": [
      "C:\\Users\\ADMIN\\anaconda3\\lib\\site-packages\\pypfopt\\efficient_frontier\\efficient_frontier.py:262: UserWarning: max_sharpe transforms the optimization problem so additional objectives may not work as expected.\n",
      "  warnings.warn(\n"
     ]
    },
    {
     "data": {
      "text/plain": [
       "OrderedDict([('AMZN', 0.32787),\n",
       "             ('COST', 0.01891),\n",
       "             ('CVS', 0.12443),\n",
       "             ('JNJ', 0.05674),\n",
       "             ('JPM', 0.08162),\n",
       "             ('META', 0.13096),\n",
       "             ('TSLA', 0.14333),\n",
       "             ('WMT', 0.11614)])"
      ]
     },
     "execution_count": 171,
     "metadata": {},
     "output_type": "execute_result"
    }
   ],
   "source": [
    "ef = EfficientFrontier(ret_bl, S_bl)\n",
    "ef.add_objective(objective_functions.L2_reg)\n",
    "ef.max_sharpe()\n",
    "weights = ef.clean_weights()\n",
    "weights"
   ]
  },
  {
   "cell_type": "code",
   "execution_count": 40,
   "metadata": {
    "colab": {
     "base_uri": "https://localhost:8080/",
     "height": 575
    },
    "id": "9_pWobQoAbNq",
    "outputId": "e50c07ee-7274-4936-8f0f-e347309013b9"
   },
   "outputs": [
    {
     "data": {
      "image/png": "[encoded data removed]",
      "text/plain": [
       "<Figure size 1000x1000 with 1 Axes>"
      ]
     },
     "metadata": {},
     "output_type": "display_data"
    }
   ],
   "source": [
    "pd.Series(weights).plot.pie(figsize=(10,10));"
   ]
  },
  {
   "cell_type": "code",
   "execution_count": 177,
   "metadata": {
    "colab": {
     "base_uri": "https://localhost:8080/"
    },
    "id": "8YHugSK8AbNq",
    "outputId": "095c7b24-0f63-4c6a-a80b-91247548486b"
   },
   "outputs": [
    {
     "data": {
      "text/plain": [
       "{'AMZN': 3523,\n",
       " 'TSLA': 731,\n",
       " 'META': 772,\n",
       " 'CVS': 1458,\n",
       " 'WMT': 819,\n",
       " 'JPM': 582,\n",
       " 'JNJ': 365,\n",
       " 'COST': 39}"
      ]
     },
     "metadata": {},
     "output_type": "display_data"
    },
    {
     "data": {
      "text/plain": [
       "69.31812286376953"
      ]
     },
     "execution_count": 177,
     "metadata": {},
     "output_type": "execute_result"
    }
   ],
   "source": [
    "from pypfopt import DiscreteAllocation\n",
    "\n",
    "cash_reserve = 0\n",
    "\n",
    "da = DiscreteAllocation(weights, prices.iloc[-1], total_portfolio_value=portfolio_value-cash_reserve)#(portfolio_value-cash_reserve) 559671\n",
    "alloc, leftover = da.greedy_portfolio()\n",
    "display(alloc)\n",
    "leftover+cash_reserve"
   ]
  },
  {
   "cell_type": "code",
   "execution_count": 178,
   "metadata": {},
   "outputs": [],
   "source": [
    "alloc ['USD'] = ''"
   ]
  },
  {
   "cell_type": "code",
   "execution_count": 179,
   "metadata": {},
   "outputs": [
    {
     "data": {
      "text/html": [
       "<div>\n",
       "<style scoped>\n",
       "    .dataframe tbody tr th:only-of-type {\n",
       "        vertical-align: middle;\n",
       "    }\n",
       "\n",
       "    .dataframe tbody tr th {\n",
       "        vertical-align: top;\n",
       "    }\n",
       "\n",
       "    .dataframe thead th {\n",
       "        text-align: right;\n",
       "    }\n",
       "</style>\n",
       "<table border=\"1\" class=\"dataframe\">\n",
       "  <thead>\n",
       "    <tr style=\"text-align: right;\">\n",
       "      <th></th>\n",
       "      <th>Tickers</th>\n",
       "      <th>Sectors</th>\n",
       "      <th>Quantity</th>\n",
       "      <th>Price</th>\n",
       "      <th>Market Value</th>\n",
       "      <th>Current Weight</th>\n",
       "      <th>Prior Market Returns</th>\n",
       "      <th>JPMSI Price Target</th>\n",
       "      <th>Estimates</th>\n",
       "      <th>Confidence Levels</th>\n",
       "      <th>Post Market Returns</th>\n",
       "      <th>Post Model Quantity</th>\n",
       "      <th>Post Market Value</th>\n",
       "      <th>Post Market Weight</th>\n",
       "      <th>Portfolio Movement</th>\n",
       "    </tr>\n",
       "  </thead>\n",
       "  <tbody>\n",
       "    <tr>\n",
       "      <th>0</th>\n",
       "      <td>AMZN</td>\n",
       "      <td>TECH</td>\n",
       "      <td>323</td>\n",
       "      <td>93.500000</td>\n",
       "      <td>30200.50</td>\n",
       "      <td>0.0301</td>\n",
       "      <td>0.141515</td>\n",
       "      <td>97</td>\n",
       "      <td>0.13000</td>\n",
       "      <td>0</td>\n",
       "      <td>0.129934</td>\n",
       "      <td>3523.0</td>\n",
       "      <td>329400.50</td>\n",
       "      <td>0.327869</td>\n",
       "      <td>3200.00</td>\n",
       "    </tr>\n",
       "    <tr>\n",
       "      <th>1</th>\n",
       "      <td>META</td>\n",
       "      <td>TECH</td>\n",
       "      <td>414</td>\n",
       "      <td>170.389999</td>\n",
       "      <td>70541.46</td>\n",
       "      <td>0.0702</td>\n",
       "      <td>0.064980</td>\n",
       "      <td>180</td>\n",
       "      <td>0.06300</td>\n",
       "      <td>0</td>\n",
       "      <td>0.060604</td>\n",
       "      <td>772.0</td>\n",
       "      <td>131541.08</td>\n",
       "      <td>0.130929</td>\n",
       "      <td>358.00</td>\n",
       "    </tr>\n",
       "    <tr>\n",
       "      <th>2</th>\n",
       "      <td>TSLA</td>\n",
       "      <td>AUTOMOBILE</td>\n",
       "      <td>351</td>\n",
       "      <td>196.880005</td>\n",
       "      <td>69104.88</td>\n",
       "      <td>0.0688</td>\n",
       "      <td>0.058158</td>\n",
       "      <td>210</td>\n",
       "      <td>0.06664</td>\n",
       "      <td>0</td>\n",
       "      <td>0.066210</td>\n",
       "      <td>731.0</td>\n",
       "      <td>143919.28</td>\n",
       "      <td>0.143250</td>\n",
       "      <td>380.00</td>\n",
       "    </tr>\n",
       "    <tr>\n",
       "      <th>3</th>\n",
       "      <td>COST</td>\n",
       "      <td>RETAIL</td>\n",
       "      <td>398</td>\n",
       "      <td>488.609985</td>\n",
       "      <td>194466.77</td>\n",
       "      <td>0.1936</td>\n",
       "      <td>0.055666</td>\n",
       "      <td>450</td>\n",
       "      <td>0.03000</td>\n",
       "      <td>0</td>\n",
       "      <td>0.030207</td>\n",
       "      <td>39.0</td>\n",
       "      <td>19055.79</td>\n",
       "      <td>0.018967</td>\n",
       "      <td>-359.00</td>\n",
       "    </tr>\n",
       "    <tr>\n",
       "      <th>4</th>\n",
       "      <td>WMT</td>\n",
       "      <td>RETAIL</td>\n",
       "      <td>387</td>\n",
       "      <td>142.470001</td>\n",
       "      <td>55135.89</td>\n",
       "      <td>0.0549</td>\n",
       "      <td>0.086468</td>\n",
       "      <td>138</td>\n",
       "      <td>0.06000</td>\n",
       "      <td>0</td>\n",
       "      <td>0.059029</td>\n",
       "      <td>819.0</td>\n",
       "      <td>116682.93</td>\n",
       "      <td>0.116140</td>\n",
       "      <td>432.00</td>\n",
       "    </tr>\n",
       "    <tr>\n",
       "      <th>5</th>\n",
       "      <td>JPM</td>\n",
       "      <td>FINANCE</td>\n",
       "      <td>340</td>\n",
       "      <td>140.929993</td>\n",
       "      <td>47916.20</td>\n",
       "      <td>0.0477</td>\n",
       "      <td>0.045888</td>\n",
       "      <td>125</td>\n",
       "      <td>0.05000</td>\n",
       "      <td>0</td>\n",
       "      <td>0.050618</td>\n",
       "      <td>582.0</td>\n",
       "      <td>82021.26</td>\n",
       "      <td>0.081640</td>\n",
       "      <td>242.00</td>\n",
       "    </tr>\n",
       "    <tr>\n",
       "      <th>6</th>\n",
       "      <td>JNJ</td>\n",
       "      <td>HEALTH</td>\n",
       "      <td>401</td>\n",
       "      <td>155.970001</td>\n",
       "      <td>62543.97</td>\n",
       "      <td>0.0623</td>\n",
       "      <td>0.068427</td>\n",
       "      <td>160</td>\n",
       "      <td>0.04000</td>\n",
       "      <td>0</td>\n",
       "      <td>0.039766</td>\n",
       "      <td>365.0</td>\n",
       "      <td>56929.05</td>\n",
       "      <td>0.056664</td>\n",
       "      <td>-36.00</td>\n",
       "    </tr>\n",
       "    <tr>\n",
       "      <th>7</th>\n",
       "      <td>CVS</td>\n",
       "      <td>HEALTH</td>\n",
       "      <td>347</td>\n",
       "      <td>85.769997</td>\n",
       "      <td>29762.19</td>\n",
       "      <td>0.0296</td>\n",
       "      <td>0.068321</td>\n",
       "      <td>87</td>\n",
       "      <td>0.08000</td>\n",
       "      <td>0</td>\n",
       "      <td>0.061718</td>\n",
       "      <td>1458.0</td>\n",
       "      <td>125052.66</td>\n",
       "      <td>0.124471</td>\n",
       "      <td>1111.00</td>\n",
       "    </tr>\n",
       "    <tr>\n",
       "      <th>8</th>\n",
       "      <td>USD</td>\n",
       "      <td>CASH</td>\n",
       "      <td>445000</td>\n",
       "      <td>1.000000</td>\n",
       "      <td>445000.00</td>\n",
       "      <td>0.4429</td>\n",
       "      <td>1.000000</td>\n",
       "      <td>1</td>\n",
       "      <td>0.00000</td>\n",
       "      <td>0</td>\n",
       "      <td>0.000000</td>\n",
       "      <td>NaN</td>\n",
       "      <td>69.31</td>\n",
       "      <td>0.000069</td>\n",
       "      <td>-444930.69</td>\n",
       "    </tr>\n",
       "  </tbody>\n",
       "</table>\n",
       "</div>"
      ],
      "text/plain": [
       "  Tickers     Sectors  Quantity       Price  Market Value  Current Weight  \\\n",
       "0    AMZN        TECH       323   93.500000      30200.50          0.0301   \n",
       "1    META        TECH       414  170.389999      70541.46          0.0702   \n",
       "2    TSLA  AUTOMOBILE       351  196.880005      69104.88          0.0688   \n",
       "3    COST      RETAIL       398  488.609985     194466.77          0.1936   \n",
       "4     WMT      RETAIL       387  142.470001      55135.89          0.0549   \n",
       "5     JPM     FINANCE       340  140.929993      47916.20          0.0477   \n",
       "6     JNJ      HEALTH       401  155.970001      62543.97          0.0623   \n",
       "7     CVS      HEALTH       347   85.769997      29762.19          0.0296   \n",
       "8     USD        CASH    445000    1.000000     445000.00          0.4429   \n",
       "\n",
       "   Prior Market Returns  JPMSI Price Target  Estimates  Confidence Levels  \\\n",
       "0              0.141515                  97    0.13000                  0   \n",
       "1              0.064980                 180    0.06300                  0   \n",
       "2              0.058158                 210    0.06664                  0   \n",
       "3              0.055666                 450    0.03000                  0   \n",
       "4              0.086468                 138    0.06000                  0   \n",
       "5              0.045888                 125    0.05000                  0   \n",
       "6              0.068427                 160    0.04000                  0   \n",
       "7              0.068321                  87    0.08000                  0   \n",
       "8              1.000000                   1    0.00000                  0   \n",
       "\n",
       "   Post Market Returns  Post Model Quantity  Post Market Value  \\\n",
       "0             0.129934               3523.0          329400.50   \n",
       "1             0.060604                772.0          131541.08   \n",
       "2             0.066210                731.0          143919.28   \n",
       "3             0.030207                 39.0           19055.79   \n",
       "4             0.059029                819.0          116682.93   \n",
       "5             0.050618                582.0           82021.26   \n",
       "6             0.039766                365.0           56929.05   \n",
       "7             0.061718               1458.0          125052.66   \n",
       "8             0.000000                  NaN              69.31   \n",
       "\n",
       "   Post Market Weight  Portfolio Movement  \n",
       "0            0.327869             3200.00  \n",
       "1            0.130929              358.00  \n",
       "2            0.143250              380.00  \n",
       "3            0.018967             -359.00  \n",
       "4            0.116140              432.00  \n",
       "5            0.081640              242.00  \n",
       "6            0.056664              -36.00  \n",
       "7            0.124471             1111.00  \n",
       "8            0.000069          -444930.69  "
      ]
     },
     "execution_count": 179,
     "metadata": {},
     "output_type": "execute_result"
    }
   ],
   "source": [
    "for x in rets_df.index:\n",
    "    y = rets_df.loc[x]['Posterior']\n",
    "    data.loc[data['Tickers'] == x, 'Post Market Returns'] = y\n",
    "    data.loc[data['Tickers'] == x, 'Post Model Quantity'] = alloc[x]\n",
    "\n",
    "data['Market Value'] = round(data['Market Value'],2)\n",
    "data ['Post Market Value'] = round((data['Post Model Quantity'] * data ['Price']),2)\n",
    "post_model_portfolio_value = data ['Post Market Value']. sum()\n",
    "data.loc[data['Tickers'] == 'USD', 'Post Market Value'] = round((portfolio_value- post_model_portfolio_value),2)\n",
    "data ['Post Market Weight'] = data['Post Market Value'] / portfolio_value\n",
    "data ['Portfolio Movement'] = (data['Post Model Quantity'] - data['Quantity'])\n",
    "data.loc[data['Tickers'] == 'USD', 'Portfolio Movement'] = data['Post Market Value'] - data ['Market Value']\n",
    "# if data.loc[0]['Current Weight'] == float:\n",
    "#     data['Current Weight'] = round((data['Current Weight']*100),2).astype(str)+'%'\n",
    "data.to_excel(r\"C:\\Users\\ADMIN\\Downloads\\Black Letterman Model\\Mock Data.xlsx\",index = False)\n",
    "data"
   ]
  },
  {
   "cell_type": "code",
   "execution_count": 180,
   "metadata": {},
   "outputs": [
    {
     "data": {
      "text/html": [
       "<div>\n",
       "<style scoped>\n",
       "    .dataframe tbody tr th:only-of-type {\n",
       "        vertical-align: middle;\n",
       "    }\n",
       "\n",
       "    .dataframe tbody tr th {\n",
       "        vertical-align: top;\n",
       "    }\n",
       "\n",
       "    .dataframe thead th {\n",
       "        text-align: right;\n",
       "    }\n",
       "</style>\n",
       "<table border=\"1\" class=\"dataframe\">\n",
       "  <thead>\n",
       "    <tr style=\"text-align: right;\">\n",
       "      <th></th>\n",
       "      <th>Tickers</th>\n",
       "      <th>Quantity</th>\n",
       "      <th>Post Model Quantity</th>\n",
       "      <th>Portfolio Movement</th>\n",
       "    </tr>\n",
       "  </thead>\n",
       "  <tbody>\n",
       "    <tr>\n",
       "      <th>0</th>\n",
       "      <td>AMZN</td>\n",
       "      <td>323</td>\n",
       "      <td>3523.0</td>\n",
       "      <td>3200.00</td>\n",
       "    </tr>\n",
       "    <tr>\n",
       "      <th>1</th>\n",
       "      <td>META</td>\n",
       "      <td>414</td>\n",
       "      <td>772.0</td>\n",
       "      <td>358.00</td>\n",
       "    </tr>\n",
       "    <tr>\n",
       "      <th>2</th>\n",
       "      <td>TSLA</td>\n",
       "      <td>351</td>\n",
       "      <td>731.0</td>\n",
       "      <td>380.00</td>\n",
       "    </tr>\n",
       "    <tr>\n",
       "      <th>3</th>\n",
       "      <td>COST</td>\n",
       "      <td>398</td>\n",
       "      <td>39.0</td>\n",
       "      <td>-359.00</td>\n",
       "    </tr>\n",
       "    <tr>\n",
       "      <th>4</th>\n",
       "      <td>WMT</td>\n",
       "      <td>387</td>\n",
       "      <td>819.0</td>\n",
       "      <td>432.00</td>\n",
       "    </tr>\n",
       "    <tr>\n",
       "      <th>5</th>\n",
       "      <td>JPM</td>\n",
       "      <td>340</td>\n",
       "      <td>582.0</td>\n",
       "      <td>242.00</td>\n",
       "    </tr>\n",
       "    <tr>\n",
       "      <th>6</th>\n",
       "      <td>JNJ</td>\n",
       "      <td>401</td>\n",
       "      <td>365.0</td>\n",
       "      <td>-36.00</td>\n",
       "    </tr>\n",
       "    <tr>\n",
       "      <th>7</th>\n",
       "      <td>CVS</td>\n",
       "      <td>347</td>\n",
       "      <td>1458.0</td>\n",
       "      <td>1111.00</td>\n",
       "    </tr>\n",
       "    <tr>\n",
       "      <th>8</th>\n",
       "      <td>USD</td>\n",
       "      <td>445000</td>\n",
       "      <td>NaN</td>\n",
       "      <td>-444930.69</td>\n",
       "    </tr>\n",
       "  </tbody>\n",
       "</table>\n",
       "</div>"
      ],
      "text/plain": [
       "  Tickers  Quantity  Post Model Quantity  Portfolio Movement\n",
       "0    AMZN       323               3523.0             3200.00\n",
       "1    META       414                772.0              358.00\n",
       "2    TSLA       351                731.0              380.00\n",
       "3    COST       398                 39.0             -359.00\n",
       "4     WMT       387                819.0              432.00\n",
       "5     JPM       340                582.0              242.00\n",
       "6     JNJ       401                365.0              -36.00\n",
       "7     CVS       347               1458.0             1111.00\n",
       "8     USD    445000                  NaN          -444930.69"
      ]
     },
     "execution_count": 180,
     "metadata": {},
     "output_type": "execute_result"
    }
   ],
   "source": [
    "port_mov = data[['Tickers','Quantity','Post Model Quantity','Portfolio Movement']]\n",
    "port_mov"
   ]
  },
  {
   "cell_type": "code",
   "execution_count": 181,
   "metadata": {},
   "outputs": [
    {
     "name": "stderr",
     "output_type": "stream",
     "text": [
      "C:\\Users\\ADMIN\\AppData\\Local\\Temp\\ipykernel_12808\\4220604492.py:2: SettingWithCopyWarning: \n",
      "A value is trying to be set on a copy of a slice from a DataFrame.\n",
      "Try using .loc[row_indexer,col_indexer] = value instead\n",
      "\n",
      "See the caveats in the documentation: https://pandas.pydata.org/pandas-docs/stable/user_guide/indexing.html#returning-a-view-versus-a-copy\n",
      "  port_wmov['Change in Weights'] = port_wmov['Post Market Weight'] - port_wmov['Current Weight']\n"
     ]
    },
    {
     "data": {
      "text/html": [
       "<div>\n",
       "<style scoped>\n",
       "    .dataframe tbody tr th:only-of-type {\n",
       "        vertical-align: middle;\n",
       "    }\n",
       "\n",
       "    .dataframe tbody tr th {\n",
       "        vertical-align: top;\n",
       "    }\n",
       "\n",
       "    .dataframe thead th {\n",
       "        text-align: right;\n",
       "    }\n",
       "</style>\n",
       "<table border=\"1\" class=\"dataframe\">\n",
       "  <thead>\n",
       "    <tr style=\"text-align: right;\">\n",
       "      <th></th>\n",
       "      <th>Tickers</th>\n",
       "      <th>Market Value</th>\n",
       "      <th>Current Weight</th>\n",
       "      <th>Post Market Weight</th>\n",
       "      <th>Change in Weights</th>\n",
       "    </tr>\n",
       "  </thead>\n",
       "  <tbody>\n",
       "    <tr>\n",
       "      <th>0</th>\n",
       "      <td>AMZN</td>\n",
       "      <td>30200.50</td>\n",
       "      <td>0.0301</td>\n",
       "      <td>0.327869</td>\n",
       "      <td>0.297769</td>\n",
       "    </tr>\n",
       "    <tr>\n",
       "      <th>1</th>\n",
       "      <td>META</td>\n",
       "      <td>70541.46</td>\n",
       "      <td>0.0702</td>\n",
       "      <td>0.130929</td>\n",
       "      <td>0.060729</td>\n",
       "    </tr>\n",
       "    <tr>\n",
       "      <th>2</th>\n",
       "      <td>TSLA</td>\n",
       "      <td>69104.88</td>\n",
       "      <td>0.0688</td>\n",
       "      <td>0.143250</td>\n",
       "      <td>0.074450</td>\n",
       "    </tr>\n",
       "    <tr>\n",
       "      <th>3</th>\n",
       "      <td>COST</td>\n",
       "      <td>194466.77</td>\n",
       "      <td>0.1936</td>\n",
       "      <td>0.018967</td>\n",
       "      <td>-0.174633</td>\n",
       "    </tr>\n",
       "    <tr>\n",
       "      <th>4</th>\n",
       "      <td>WMT</td>\n",
       "      <td>55135.89</td>\n",
       "      <td>0.0549</td>\n",
       "      <td>0.116140</td>\n",
       "      <td>0.061240</td>\n",
       "    </tr>\n",
       "    <tr>\n",
       "      <th>5</th>\n",
       "      <td>JPM</td>\n",
       "      <td>47916.20</td>\n",
       "      <td>0.0477</td>\n",
       "      <td>0.081640</td>\n",
       "      <td>0.033940</td>\n",
       "    </tr>\n",
       "    <tr>\n",
       "      <th>6</th>\n",
       "      <td>JNJ</td>\n",
       "      <td>62543.97</td>\n",
       "      <td>0.0623</td>\n",
       "      <td>0.056664</td>\n",
       "      <td>-0.005636</td>\n",
       "    </tr>\n",
       "    <tr>\n",
       "      <th>7</th>\n",
       "      <td>CVS</td>\n",
       "      <td>29762.19</td>\n",
       "      <td>0.0296</td>\n",
       "      <td>0.124471</td>\n",
       "      <td>0.094871</td>\n",
       "    </tr>\n",
       "    <tr>\n",
       "      <th>8</th>\n",
       "      <td>USD</td>\n",
       "      <td>445000.00</td>\n",
       "      <td>0.4429</td>\n",
       "      <td>0.000069</td>\n",
       "      <td>-0.442831</td>\n",
       "    </tr>\n",
       "  </tbody>\n",
       "</table>\n",
       "</div>"
      ],
      "text/plain": [
       "  Tickers  Market Value  Current Weight  Post Market Weight  Change in Weights\n",
       "0    AMZN      30200.50          0.0301            0.327869           0.297769\n",
       "1    META      70541.46          0.0702            0.130929           0.060729\n",
       "2    TSLA      69104.88          0.0688            0.143250           0.074450\n",
       "3    COST     194466.77          0.1936            0.018967          -0.174633\n",
       "4     WMT      55135.89          0.0549            0.116140           0.061240\n",
       "5     JPM      47916.20          0.0477            0.081640           0.033940\n",
       "6     JNJ      62543.97          0.0623            0.056664          -0.005636\n",
       "7     CVS      29762.19          0.0296            0.124471           0.094871\n",
       "8     USD     445000.00          0.4429            0.000069          -0.442831"
      ]
     },
     "execution_count": 181,
     "metadata": {},
     "output_type": "execute_result"
    }
   ],
   "source": [
    "port_wmov = data[['Tickers','Market Value','Current Weight','Post Market Weight']]\n",
    "port_wmov['Change in Weights'] = port_wmov['Post Market Weight'] - port_wmov['Current Weight']\n",
    "port_wmov"
   ]
  },
  {
   "cell_type": "code",
   "execution_count": 81,
   "metadata": {},
   "outputs": [
    {
     "data": {
      "text/plain": [
       "OrderedDict([('AMZN', 0.2500000000789844),\n",
       "             ('COST', 0.1220040037719177),\n",
       "             ('CVS', 0.1500000000625484),\n",
       "             ('JNJ', 0.127264631060935),\n",
       "             ('JPM', 0.1155731180185738),\n",
       "             ('META', 0.1351582474608336),\n",
       "             ('TSLA', 2.555034e-10),\n",
       "             ('WMT', 0.1000000000896821)])"
      ]
     },
     "metadata": {},
     "output_type": "display_data"
    },
    {
     "name": "stdout",
     "output_type": "stream",
     "text": [
      "Expected annual return: 7.0%\n",
      "Annual volatility: 16.4%\n",
      "Sharpe Ratio: 0.31\n"
     ]
    },
    {
     "data": {
      "text/plain": [
       "(0.07043144207083615, 0.1641062181508061, 0.3073097572968988)"
      ]
     },
     "execution_count": 81,
     "metadata": {},
     "output_type": "execute_result"
    }
   ],
   "source": [
    "ef = EfficientFrontier(ret_bl, S_bl)\n",
    "weight_constraints = [0.25,0,0.15,0,0,0,'rem',0.1]\n",
    "weight_constraint_limits = [0,0,0,0,(0.1,0.12),0,0,0]\n",
    "n = 0\n",
    "for i in weight_constraints:\n",
    "    if i == 0:\n",
    "        pass\n",
    "    elif i == 'rem':\n",
    "        ef.add_constraint(lambda x : x[n] == 0)\n",
    "    else:\n",
    "        ef.add_constraint(lambda x : x[n] == i)\n",
    "    n = n + 1\n",
    "n = 0\n",
    "for i in weight_constraint_limits:\n",
    "    if type(i) == tuple:\n",
    "        ef.add_constraint(lambda x : x[n] >= i[0])\n",
    "        ef.add_constraint(lambda x : x[n] <= i[1])\n",
    "    n = n + 1\n",
    "ef.add_constraint(lambda x : x[2] <= 0.2)\n",
    "ef.add_constraint(lambda x : x[2] >= 0.15)\n",
    "ef.add_objective(objective_functions.L2_reg)\n",
    "# ef.max_sharpe()\n",
    "# weights = ef.clean_weights()\n",
    "weights = ef.min_volatility()\n",
    "display (weights)\n",
    "ef.portfolio_performance(verbose=True)"
   ]
  },
  {
   "cell_type": "code",
   "execution_count": 163,
   "metadata": {},
   "outputs": [
    {
     "data": {
      "text/plain": [
       "OrderedDict([('AMZN', 0.0448406257686821),\n",
       "             ('COST', 0.1084225881481788),\n",
       "             ('CVS', 0.0934072244702967),\n",
       "             ('JNJ', 0.1594869923259464),\n",
       "             ('JPM', 0.0506408376340954),\n",
       "             ('META', 0.3019362900523636),\n",
       "             ('TSLA', 0.1442314047982898),\n",
       "             ('WMT', 0.0970340367993662)])"
      ]
     },
     "metadata": {},
     "output_type": "display_data"
    },
    {
     "name": "stdout",
     "output_type": "stream",
     "text": [
      "Expected annual return: 5.7%\n",
      "Annual volatility: 12.5%\n",
      "Sharpe Ratio: 0.30\n"
     ]
    },
    {
     "data": {
      "text/plain": [
       "(0.057347878017161645, 0.12500000027570987, 0.29878302347827373)"
      ]
     },
     "execution_count": 163,
     "metadata": {},
     "output_type": "execute_result"
    }
   ],
   "source": [
    "ef = EfficientFrontier(ret_bl, S_bl)\n",
    "ef.add_objective(objective_functions.L2_reg)\n",
    "# ef.max_sharpe()\n",
    "# weights = ef.clean_weights()\n",
    "# weights = ef.efficient_return(0.1)\n",
    "# weights = ef.min_volatility()\n",
    "weights = ef.efficient_risk(0.125)\n",
    "display (weights)\n",
    "ef.portfolio_performance(verbose=True)"
   ]
  },
  {
   "cell_type": "code",
   "execution_count": 191,
   "metadata": {},
   "outputs": [
    {
     "ename": "ModuleNotFoundError",
     "evalue": "No module named 'riskfolio'",
     "output_type": "error",
     "traceback": [
      "\u001b[1;31m---------------------------------------------------------------------------\u001b[0m",
      "\u001b[1;31mModuleNotFoundError\u001b[0m                       Traceback (most recent call last)",
      "\u001b[1;32m~\\AppData\\Local\\Temp\\ipykernel_12808\\410397912.py\u001b[0m in \u001b[0;36m<module>\u001b[1;34m\u001b[0m\n\u001b[0;32m      1\u001b[0m \u001b[1;31m# Plotting the risk contribution per asset\u001b[0m\u001b[1;33m\u001b[0m\u001b[1;33m\u001b[0m\u001b[0m\n\u001b[0;32m      2\u001b[0m \u001b[1;33m\u001b[0m\u001b[0m\n\u001b[1;32m----> 3\u001b[1;33m \u001b[1;32mimport\u001b[0m \u001b[0mriskfolio\u001b[0m \u001b[1;32mas\u001b[0m \u001b[0mrp\u001b[0m\u001b[1;33m\u001b[0m\u001b[1;33m\u001b[0m\u001b[0m\n\u001b[0m\u001b[0;32m      4\u001b[0m \u001b[1;33m\u001b[0m\u001b[0m\n\u001b[0;32m      5\u001b[0m \u001b[1;31m# Tickers of assets\u001b[0m\u001b[1;33m\u001b[0m\u001b[1;33m\u001b[0m\u001b[0m\n",
      "\u001b[1;31mModuleNotFoundError\u001b[0m: No module named 'riskfolio'"
     ]
    }
   ],
   "source": [
    "# Plotting the risk contribution per asset\n",
    "\n",
    "import riskfolio as rp\n",
    "\n",
    "# Tickers of assets\n",
    "assets = tickers\n",
    "assets.sort()\n",
    "\n",
    "# Downloading data\n",
    "data = yf.download(assets)\n",
    "data = data.loc[:,('Adj Close', slice(None))]\n",
    "data.columns = assets\n",
    "\n",
    "Y = data[assets].pct_change().dropna()\n",
    "\n",
    "mu = Y.mean()\n",
    "cov = Y.cov() # Covariance matrix\n",
    "returns = Y # Returns of the assets\n",
    "\n",
    "ax = rp.plot_risk_con(w=w,\n",
    "                      cov=cov,\n",
    "                      returns=returns,\n",
    "                      rm=rm,\n",
    "                      rf=0,\n",
    "                      alpha=0.05,\n",
    "                      color=\"tab:blue\",\n",
    "                      height=6,\n",
    "                      width=10,\n",
    "                      t_factor=252,\n",
    "                      ax=None)"
   ]
  },
  {
   "cell_type": "code",
   "execution_count": 201,
   "metadata": {},
   "outputs": [],
   "source": [
    "from distutils.core import setup\n",
    "from setuptools import setup\n"
   ]
  },
  {
   "cell_type": "code",
   "execution_count": 207,
   "metadata": {},
   "outputs": [
    {
     "name": "stdout",
     "output_type": "stream",
     "text": [
      "Collecting Riskfolio-Lib\n",
      "  Using cached Riskfolio-Lib-4.0.3.tar.gz (12.9 MB)\n",
      "  Preparing metadata (setup.py): started\n",
      "  Preparing metadata (setup.py): finished with status 'done'\n",
      "Requirement already satisfied: numpy>=1.17.0 in c:\\users\\admin\\anaconda3\\lib\\site-packages (from Riskfolio-Lib) (1.23.4)\n",
      "Requirement already satisfied: scipy>=1.0.1 in c:\\users\\admin\\anaconda3\\lib\\site-packages (from Riskfolio-Lib) (1.10.1)\n",
      "Requirement already satisfied: pandas>=1.0.0 in c:\\users\\admin\\anaconda3\\lib\\site-packages (from Riskfolio-Lib) (1.4.4)\n",
      "Requirement already satisfied: matplotlib>=3.3.0 in c:\\users\\admin\\anaconda3\\lib\\site-packages (from Riskfolio-Lib) (3.5.2)\n",
      "Requirement already satisfied: cvxpy>=1.0.25 in c:\\users\\admin\\anaconda3\\lib\\site-packages (from Riskfolio-Lib) (1.3.0)\n",
      "Requirement already satisfied: scikit-learn>=0.22.0 in c:\\users\\admin\\anaconda3\\lib\\site-packages (from Riskfolio-Lib) (1.0.2)\n",
      "Requirement already satisfied: statsmodels>=0.10.1 in c:\\users\\admin\\anaconda3\\lib\\site-packages (from Riskfolio-Lib) (0.13.2)\n",
      "Requirement already satisfied: arch>=4.15 in c:\\users\\admin\\anaconda3\\lib\\site-packages (from Riskfolio-Lib) (5.3.1)\n",
      "Requirement already satisfied: xlsxwriter>=1.3.7 in c:\\users\\admin\\anaconda3\\lib\\site-packages (from Riskfolio-Lib) (3.0.3)\n",
      "Requirement already satisfied: networkx>=2.5.1 in c:\\users\\admin\\anaconda3\\lib\\site-packages (from Riskfolio-Lib) (2.8.4)\n",
      "Requirement already satisfied: astropy>=4.3.1 in c:\\users\\admin\\anaconda3\\lib\\site-packages (from Riskfolio-Lib) (5.1)\n",
      "Requirement already satisfied: pybind11>=2.10.1 in c:\\users\\admin\\anaconda3\\lib\\site-packages (from Riskfolio-Lib) (2.10.3)\n",
      "Requirement already satisfied: property-cached>=1.6.4 in c:\\users\\admin\\anaconda3\\lib\\site-packages (from arch>=4.15->Riskfolio-Lib) (1.6.4)\n",
      "Requirement already satisfied: pyerfa>=2.0 in c:\\users\\admin\\anaconda3\\lib\\site-packages (from astropy>=4.3.1->Riskfolio-Lib) (2.0.0)\n",
      "Requirement already satisfied: packaging>=19.0 in c:\\users\\admin\\anaconda3\\lib\\site-packages (from astropy>=4.3.1->Riskfolio-Lib) (23.0)\n",
      "Requirement already satisfied: PyYAML>=3.13 in c:\\users\\admin\\anaconda3\\lib\\site-packages (from astropy>=4.3.1->Riskfolio-Lib) (6.0)\n",
      "Requirement already satisfied: osqp>=0.4.1 in c:\\users\\admin\\anaconda3\\lib\\site-packages (from cvxpy>=1.0.25->Riskfolio-Lib) (0.6.2.post8)\n",
      "Requirement already satisfied: setuptools<=64.0.2 in c:\\users\\admin\\anaconda3\\lib\\site-packages (from cvxpy>=1.0.25->Riskfolio-Lib) (63.4.1)\n",
      "Requirement already satisfied: ecos>=2 in c:\\users\\admin\\anaconda3\\lib\\site-packages (from cvxpy>=1.0.25->Riskfolio-Lib) (2.0.12)\n",
      "Requirement already satisfied: scs>=1.1.6 in c:\\users\\admin\\anaconda3\\lib\\site-packages (from cvxpy>=1.0.25->Riskfolio-Lib) (3.2.2)\n",
      "Requirement already satisfied: python-dateutil>=2.7 in c:\\users\\admin\\anaconda3\\lib\\site-packages (from matplotlib>=3.3.0->Riskfolio-Lib) (2.8.2)\n",
      "Requirement already satisfied: cycler>=0.10 in c:\\users\\admin\\anaconda3\\lib\\site-packages (from matplotlib>=3.3.0->Riskfolio-Lib) (0.11.0)\n",
      "Requirement already satisfied: pillow>=6.2.0 in c:\\users\\admin\\anaconda3\\lib\\site-packages (from matplotlib>=3.3.0->Riskfolio-Lib) (9.2.0)\n",
      "Requirement already satisfied: fonttools>=4.22.0 in c:\\users\\admin\\anaconda3\\lib\\site-packages (from matplotlib>=3.3.0->Riskfolio-Lib) (4.25.0)\n",
      "Requirement already satisfied: kiwisolver>=1.0.1 in c:\\users\\admin\\anaconda3\\lib\\site-packages (from matplotlib>=3.3.0->Riskfolio-Lib) (1.4.2)\n",
      "Requirement already satisfied: pyparsing>=2.2.1 in c:\\users\\admin\\anaconda3\\lib\\site-packages (from matplotlib>=3.3.0->Riskfolio-Lib) (3.0.9)\n",
      "Requirement already satisfied: pytz>=2020.1 in c:\\users\\admin\\anaconda3\\lib\\site-packages (from pandas>=1.0.0->Riskfolio-Lib) (2022.7)\n",
      "Requirement already satisfied: threadpoolctl>=2.0.0 in c:\\users\\admin\\anaconda3\\lib\\site-packages (from scikit-learn>=0.22.0->Riskfolio-Lib) (2.2.0)\n",
      "Requirement already satisfied: joblib>=0.11 in c:\\users\\admin\\anaconda3\\lib\\site-packages (from scikit-learn>=0.22.0->Riskfolio-Lib) (1.1.0)\n",
      "Requirement already satisfied: patsy>=0.5.2 in c:\\users\\admin\\anaconda3\\lib\\site-packages (from statsmodels>=0.10.1->Riskfolio-Lib) (0.5.2)\n",
      "Requirement already satisfied: qdldl in c:\\users\\admin\\anaconda3\\lib\\site-packages (from osqp>=0.4.1->cvxpy>=1.0.25->Riskfolio-Lib) (0.1.5.post3)\n",
      "Requirement already satisfied: six in c:\\users\\admin\\anaconda3\\lib\\site-packages (from patsy>=0.5.2->statsmodels>=0.10.1->Riskfolio-Lib) (1.16.0)\n",
      "Building wheels for collected packages: Riskfolio-Lib\n",
      "  Building wheel for Riskfolio-Lib (setup.py): started\n",
      "  Building wheel for Riskfolio-Lib (setup.py): finished with status 'error'\n",
      "  Running setup.py clean for Riskfolio-Lib\n",
      "Failed to build Riskfolio-Lib\n",
      "Installing collected packages: Riskfolio-Lib\n",
      "  Running setup.py install for Riskfolio-Lib: started\n",
      "  Running setup.py install for Riskfolio-Lib: finished with status 'error'\n",
      "Note: you may need to restart the kernel to use updated packages.\n"
     ]
    },
    {
     "name": "stderr",
     "output_type": "stream",
     "text": [
      "WARNING: Ignoring invalid distribution -rotobuf (c:\\users\\admin\\anaconda3\\lib\\site-packages)\n",
      "WARNING: Ignoring invalid distribution -rotobuf (c:\\users\\admin\\anaconda3\\lib\\site-packages)\n",
      "  error: subprocess-exited-with-error\n",
      "  \n",
      "  python setup.py bdist_wheel did not run successfully.\n",
      "  exit code: 1\n",
      "  \n",
      "  [34 lines of output]\n",
      "  running bdist_wheel\n",
      "  running build\n",
      "  running build_py\n",
      "  creating build\n",
      "  creating build\\lib.win-amd64-cpython-39\n",
      "  creating build\\lib.win-amd64-cpython-39\\riskfolio\n",
      "  copying riskfolio\\__init__.py -> build\\lib.win-amd64-cpython-39\\riskfolio\n",
      "  creating build\\lib.win-amd64-cpython-39\\riskfolio\\src\n",
      "  copying riskfolio\\src\\AuxFunctions.py -> build\\lib.win-amd64-cpython-39\\riskfolio\\src\n",
      "  copying riskfolio\\src\\ConstraintsFunctions.py -> build\\lib.win-amd64-cpython-39\\riskfolio\\src\n",
      "  copying riskfolio\\src\\DBHT.py -> build\\lib.win-amd64-cpython-39\\riskfolio\\src\n",
      "  copying riskfolio\\src\\GerberStatistic.py -> build\\lib.win-amd64-cpython-39\\riskfolio\\src\n",
      "  copying riskfolio\\src\\HCPortfolio.py -> build\\lib.win-amd64-cpython-39\\riskfolio\\src\n",
      "  copying riskfolio\\src\\OwaWeights.py -> build\\lib.win-amd64-cpython-39\\riskfolio\\src\n",
      "  copying riskfolio\\src\\ParamsEstimation.py -> build\\lib.win-amd64-cpython-39\\riskfolio\\src\n",
      "  copying riskfolio\\src\\PlotFunctions.py -> build\\lib.win-amd64-cpython-39\\riskfolio\\src\n",
      "  copying riskfolio\\src\\Portfolio.py -> build\\lib.win-amd64-cpython-39\\riskfolio\\src\n",
      "  copying riskfolio\\src\\Reports.py -> build\\lib.win-amd64-cpython-39\\riskfolio\\src\n",
      "  copying riskfolio\\src\\RiskFunctions.py -> build\\lib.win-amd64-cpython-39\\riskfolio\\src\n",
      "  copying riskfolio\\src\\__init__.py -> build\\lib.win-amd64-cpython-39\\riskfolio\\src\n",
      "  creating build\\lib.win-amd64-cpython-39\\riskfolio\\external\n",
      "  copying riskfolio\\external\\cppfunctions.py -> build\\lib.win-amd64-cpython-39\\riskfolio\\external\n",
      "  copying riskfolio\\external\\__init__.py -> build\\lib.win-amd64-cpython-39\\riskfolio\\external\n",
      "  running build_ext\n",
      "  building 'riskfolio.external.functions' extension\n",
      "  creating build\\temp.win-amd64-cpython-39\n",
      "  creating build\\temp.win-amd64-cpython-39\\Release\n",
      "  creating build\\temp.win-amd64-cpython-39\\Release\\riskfolio\n",
      "  creating build\\temp.win-amd64-cpython-39\\Release\\riskfolio\\external\n",
      "  gcc -mdll -O -Wall -DMS_WIN64 -DVERSION_INFO=4.0.3 -DMS_WIN64=1 -IC:\\Users\\ADMIN\\anaconda3\\lib\\site-packages\\numpy\\core\\include -IC:\\Users\\ADMIN\\AppData\\Local\\Temp\\pip-install-utxm2wzw\\riskfolio-lib_dfdeae3b3a014236888207087614870e\\lib\\armadillo-11.4.1\\include -IC:\\Users\\ADMIN\\AppData\\Local\\Temp\\pip-install-utxm2wzw\\riskfolio-lib_dfdeae3b3a014236888207087614870e\\lib\\carma-0.6.6\\include -IC:\\Users\\ADMIN\\AppData\\Local\\Temp\\pip-install-utxm2wzw\\riskfolio-lib_dfdeae3b3a014236888207087614870e\\riskfolio\\external -IC:\\Users\\ADMIN\\anaconda3\\lib\\site-packages\\pybind11\\include -IC:\\Users\\ADMIN\\anaconda3\\include -IC:\\Users\\ADMIN\\anaconda3\\Include -c riskfolio\\external\\cpp_functions_bindings.cpp -o build\\temp.win-amd64-cpython-39\\Release\\riskfolio\\external\\cpp_functions_bindings.o /std:c++latest /EHsc /bigobj\n",
      "  gcc.exe: error: /std:c++latest: No such file or directory\n",
      "  gcc.exe: error: /EHsc: No such file or directory\n",
      "  gcc.exe: error: /bigobj: No such file or directory\n",
      "  error: command 'C:\\\\Users\\\\ADMIN\\\\anaconda3\\\\Library\\\\mingw-w64\\\\bin\\\\gcc.exe' failed with exit code 1\n",
      "  [end of output]\n",
      "  \n",
      "  note: This error originates from a subprocess, and is likely not a problem with pip.\n",
      "  ERROR: Failed building wheel for Riskfolio-Lib\n",
      "WARNING: Ignoring invalid distribution -rotobuf (c:\\users\\admin\\anaconda3\\lib\\site-packages)\n",
      "  error: subprocess-exited-with-error\n",
      "  \n",
      "  Running setup.py install for Riskfolio-Lib did not run successfully.\n",
      "  exit code: 1\n",
      "  \n",
      "  [36 lines of output]\n",
      "  running install\n",
      "  C:\\Users\\ADMIN\\anaconda3\\lib\\site-packages\\setuptools\\command\\install.py:34: SetuptoolsDeprecationWarning: setup.py install is deprecated. Use build and pip and other standards-based tools.\n",
      "    warnings.warn(\n",
      "  running build\n",
      "  running build_py\n",
      "  creating build\n",
      "  creating build\\lib.win-amd64-cpython-39\n",
      "  creating build\\lib.win-amd64-cpython-39\\riskfolio\n",
      "  copying riskfolio\\__init__.py -> build\\lib.win-amd64-cpython-39\\riskfolio\n",
      "  creating build\\lib.win-amd64-cpython-39\\riskfolio\\src\n",
      "  copying riskfolio\\src\\AuxFunctions.py -> build\\lib.win-amd64-cpython-39\\riskfolio\\src\n",
      "  copying riskfolio\\src\\ConstraintsFunctions.py -> build\\lib.win-amd64-cpython-39\\riskfolio\\src\n",
      "  copying riskfolio\\src\\DBHT.py -> build\\lib.win-amd64-cpython-39\\riskfolio\\src\n",
      "  copying riskfolio\\src\\GerberStatistic.py -> build\\lib.win-amd64-cpython-39\\riskfolio\\src\n",
      "  copying riskfolio\\src\\HCPortfolio.py -> build\\lib.win-amd64-cpython-39\\riskfolio\\src\n",
      "  copying riskfolio\\src\\OwaWeights.py -> build\\lib.win-amd64-cpython-39\\riskfolio\\src\n",
      "  copying riskfolio\\src\\ParamsEstimation.py -> build\\lib.win-amd64-cpython-39\\riskfolio\\src\n",
      "  copying riskfolio\\src\\PlotFunctions.py -> build\\lib.win-amd64-cpython-39\\riskfolio\\src\n",
      "  copying riskfolio\\src\\Portfolio.py -> build\\lib.win-amd64-cpython-39\\riskfolio\\src\n",
      "  copying riskfolio\\src\\Reports.py -> build\\lib.win-amd64-cpython-39\\riskfolio\\src\n",
      "  copying riskfolio\\src\\RiskFunctions.py -> build\\lib.win-amd64-cpython-39\\riskfolio\\src\n",
      "  copying riskfolio\\src\\__init__.py -> build\\lib.win-amd64-cpython-39\\riskfolio\\src\n",
      "  creating build\\lib.win-amd64-cpython-39\\riskfolio\\external\n",
      "  copying riskfolio\\external\\cppfunctions.py -> build\\lib.win-amd64-cpython-39\\riskfolio\\external\n",
      "  copying riskfolio\\external\\__init__.py -> build\\lib.win-amd64-cpython-39\\riskfolio\\external\n",
      "  running build_ext\n",
      "  building 'riskfolio.external.functions' extension\n",
      "  creating build\\temp.win-amd64-cpython-39\n",
      "  creating build\\temp.win-amd64-cpython-39\\Release\n",
      "  creating build\\temp.win-amd64-cpython-39\\Release\\riskfolio\n",
      "  creating build\\temp.win-amd64-cpython-39\\Release\\riskfolio\\external\n",
      "  gcc -mdll -O -Wall -DMS_WIN64 -DVERSION_INFO=4.0.3 -DMS_WIN64=1 -IC:\\Users\\ADMIN\\anaconda3\\lib\\site-packages\\numpy\\core\\include -IC:\\Users\\ADMIN\\AppData\\Local\\Temp\\pip-install-utxm2wzw\\riskfolio-lib_dfdeae3b3a014236888207087614870e\\lib\\armadillo-11.4.1\\include -IC:\\Users\\ADMIN\\AppData\\Local\\Temp\\pip-install-utxm2wzw\\riskfolio-lib_dfdeae3b3a014236888207087614870e\\lib\\carma-0.6.6\\include -IC:\\Users\\ADMIN\\AppData\\Local\\Temp\\pip-install-utxm2wzw\\riskfolio-lib_dfdeae3b3a014236888207087614870e\\riskfolio\\external -IC:\\Users\\ADMIN\\anaconda3\\lib\\site-packages\\pybind11\\include -IC:\\Users\\ADMIN\\anaconda3\\include -IC:\\Users\\ADMIN\\anaconda3\\Include -c riskfolio\\external\\cpp_functions_bindings.cpp -o build\\temp.win-amd64-cpython-39\\Release\\riskfolio\\external\\cpp_functions_bindings.o /std:c++latest /EHsc /bigobj\n",
      "  gcc.exe: error: /std:c++latest: No such file or directory\n",
      "  gcc.exe: error: /EHsc: No such file or directory\n",
      "  gcc.exe: error: /bigobj: No such file or directory\n",
      "  error: command 'C:\\\\Users\\\\ADMIN\\\\anaconda3\\\\Library\\\\mingw-w64\\\\bin\\\\gcc.exe' failed with exit code 1\n",
      "  [end of output]\n",
      "  \n",
      "  note: This error originates from a subprocess, and is likely not a problem with pip.\n",
      "error: legacy-install-failure\n",
      "\n",
      "Encountered error while trying to install package.\n",
      "\n",
      "Riskfolio-Lib\n",
      "\n",
      "note: This is an issue with the package mentioned above, not pip.\n",
      "hint: See above for output from the failure.\n",
      "WARNING: Ignoring invalid distribution -rotobuf (c:\\users\\admin\\anaconda3\\lib\\site-packages)\n",
      "WARNING: Ignoring invalid distribution -rotobuf (c:\\users\\admin\\anaconda3\\lib\\site-packages)\n",
      "WARNING: Ignoring invalid distribution -rotobuf (c:\\users\\admin\\anaconda3\\lib\\site-packages)\n"
     ]
    }
   ],
   "source": [
    "pip install Riskfolio-Lib"
   ]
  },
  {
   "cell_type": "code",
   "execution_count": null,
   "metadata": {},
   "outputs": [],
   "source": []
  }
 ],
 "metadata": {
  "colab": {
   "collapsed_sections": [],
   "name": "4-Black-Litterman-Allocation.ipynb",
   "provenance": []
  },
  "kernelspec": {
   "display_name": "Python 3 (ipykernel)",
   "language": "python",
   "name": "python3"
  },
  "language_info": {
   "codemirror_mode": {
    "name": "ipython",
    "version": 3
   },
   "file_extension": ".py",
   "mimetype": "text/x-python",
   "name": "python",
   "nbconvert_exporter": "python",
   "pygments_lexer": "ipython3",
   "version": "3.9.13"
  }
 },
 "nbformat": 4,
 "nbformat_minor": 4
}
